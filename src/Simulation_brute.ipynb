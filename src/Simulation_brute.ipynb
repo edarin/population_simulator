{
 "cells": [
  {
   "cell_type": "markdown",
   "metadata": {},
   "source": [
    "### Basic Features\n",
    "\n",
    "Implémentons avec les sommmes aggrégées de [2014](http://www2.impots.gouv.fr/documentation/statistiques/2042_nat/2015/revenus_2014_6e_ano.pdf)"
   ]
  },
  {
   "cell_type": "code",
   "execution_count": 2,
   "metadata": {
    "collapsed": true
   },
   "outputs": [],
   "source": [
    "import random\n",
    "import pandas as pd\n",
    "import numpy as np"
   ]
  },
  {
   "cell_type": "code",
   "execution_count": 48,
   "metadata": {
    "collapsed": false
   },
   "outputs": [
    {
     "name": "stdout",
     "output_type": "stream",
     "text": [
      "Nombre de déclarations : 37429459\n"
     ]
    }
   ],
   "source": [
    "situations = [['M', 12002841], ['D', 5510809], ['O', 983754], ['C', 14934477], ['V', 3997578]]\n",
    "nbr_foyer = int(sum(w for c, w in situations))\n",
    "print\"Nombre de déclarations :\",nbr_foyer\n",
    "\n",
    "#to do : pour l'instant références implémentées en dur"
   ]
  },
  {
   "cell_type": "code",
   "execution_count": 49,
   "metadata": {
    "collapsed": false
   },
   "outputs": [
    {
     "data": {
      "text/plain": [
       "[['M', 0.3206789871047829],\n",
       " ['D', 0.14723186354363282],\n",
       " ['O', 0.026282880551386008],\n",
       " ['C', 0.3990032824145281],\n",
       " ['V', 0.10680298638567018]]"
      ]
     },
     "execution_count": 49,
     "metadata": {},
     "output_type": "execute_result"
    }
   ],
   "source": [
    "pourcent_situations = situations # connaitre la proportion pour distribuer\n",
    "for x in pourcent_situations :\n",
    "    x[1] = float(x[1])/nbr_foyer\n",
    "pourcent_situations"
   ]
  },
  {
   "cell_type": "code",
   "execution_count": 7,
   "metadata": {
    "collapsed": false
   },
   "outputs": [
    {
     "data": {
      "text/plain": [
       "37429"
      ]
     },
     "execution_count": 7,
     "metadata": {},
     "output_type": "execute_result"
    }
   ],
   "source": [
    "openfisca_entry_variables = ['1AJ', '1AS', '1AP', '1AO'] # à compléter au fur et à mesure\n",
    "index = np.arange(nbr_foyer/1000)\n",
    "population = pd.DataFrame(columns=openfisca_entry_variables, index = index)\n",
    "len(population)"
   ]
  },
  {
   "cell_type": "markdown",
   "metadata": {},
   "source": [
    "### Simulate 1AJ"
   ]
  },
  {
   "cell_type": "code",
   "execution_count": null,
   "metadata": {
    "collapsed": true
   },
   "outputs": [],
   "source": [
    "revenus = [21820704, 503723963299] # (nbr de déclarant en case 1aj, montant total de cette case) -> 2014\n",
    "revenus_moy = revenus[1] / float(revenus[0])\n",
    "pourcent= REVENUS[0] / float(nbr_foyer)"
   ]
  },
  {
   "cell_type": "code",
   "execution_count": 7,
   "metadata": {
    "collapsed": false,
    "scrolled": true
   },
   "outputs": [
    {
     "name": "stdout",
     "output_type": "stream",
     "text": [
      "0.6121311878966779\n",
      "Total target 1.06453822891 not 0 target: 1.03351385913 mu=22723.014328775633 sigma=11362.332536653179 th=0.612131187897\n",
      "Total target 1.03035048374 not 0 target: 1.02155682552 mu=22549.245620867325 sigma=11307.954516316233 th=0.612131187897\n",
      "Total target 1.03434759828 not 0 target: 1.0291877932 mu=22285.563459143945 sigma=11142.39753860256 th=0.612131187897\n",
      "Total target 1.02075438766 not 0 target: 1.03078507862 mu=22142.466064594988 sigma=11128.224484249376 th=0.612131187897\n",
      "Total target 1.01235014023 not 0 target: 1.02599618626 mu=22080.190499220487 sigma=11065.082860432603 th=0.612131187897\n",
      "Total target 1.01536529462 not 0 target: 1.02656434381 mu=21866.560491121967 sigma=11012.003560988995 th=0.612131187897\n",
      "Total target 1.00561803319 not 0 target: 1.02879072811 mu=21832.577188361447 sigma=10982.971178238968 th=0.612131187897\n",
      "Total target 1.00423170196 not 0 target: 1.02963279745 mu=21824.726688718758 sigma=10966.481547795713 th=0.612131187897\n",
      "Total target 0.992786645463 not 0 target: 1.02087734166 mu=21729.816188490382 sigma=10975.261267000562 th=0.612131187897\n",
      "Total target 0.992617822392 not 0 target: 1.02359177901 mu=21523.543535913013 sigma=11001.92191981421 th=0.612131187897\n",
      "Total target 0.983525079136 not 0 target: 1.026318339 mu=21364.22373578065 sigma=11017.351739305082 th=0.612131187897\n",
      "Total target 0.978022031502 not 0 target: 1.02507042718 mu=21098.87886325373 sigma=11055.716889535319 th=0.612131187897\n",
      "Total target 0.963453149167 not 0 target: 1.01597863645 mu=21012.51924437974 sigma=11058.792459984117 th=0.612131187897\n",
      "Total target 0.958332376467 not 0 target: 1.02118077939 mu=20883.17736670011 sigma=11184.641363315006 th=0.612131187897\n",
      "Total target 0.962192860599 not 0 target: 1.02171501989 mu=20698.64852328634 sigma=11251.862298318167 th=0.612131187897\n",
      "Total target 0.945424777241 not 0 target: 1.01483589385 mu=20670.19631031203 sigma=11548.146853099819 th=0.612131187897\n",
      "Total target 0.951373204795 not 0 target: 1.01158847715 mu=20580.503744076184 sigma=11744.492135485369 th=0.612131187897\n",
      "Total target 0.943070225738 not 0 target: 1.00993112055 mu=20493.728122585828 sigma=11909.28144568593 th=0.612131187897\n",
      "Total target 0.937178625908 not 0 target: 0.999433733118 mu=20499.12970109762 sigma=12233.719244400267 th=0.612131187897\n",
      "Total target 0.936314788269 not 0 target: 0.994166260327 mu=20515.609049865983 sigma=12407.407295769639 th=0.612131187897\n",
      "Total target 0.94893511785 not 0 target: 1.00047301869 mu=20512.866991920557 sigma=12441.187030561221 th=0.612131187897\n",
      "Total target 0.947574807642 not 0 target: 1.00042170167 mu=20510.285046298486 sigma=12503.83713864545 th=0.612131187897\n",
      "Total target 0.946347409688 not 0 target: 0.996112882937 mu=20523.866166273194 sigma=12746.284750353456 th=0.612131187897\n",
      "Total target 0.95169926435 not 0 target: 0.994634692108 mu=20550.728636387154 sigma=12946.555513973364 th=0.612131187897\n",
      "Total target 0.952118263118 not 0 target: 0.991897067751 mu=20572.785081709913 sigma=13029.289360065062 th=0.612131187897\n",
      "Total target 0.946783183513 not 0 target: 0.988401445011 mu=20657.639600866463 sigma=13174.271276281725 th=0.612131187897\n",
      "Total target 0.963216281887 not 0 target: 0.996518301519 mu=20680.82226398602 sigma=13193.334769321393 th=0.612131187897\n",
      "Total target 0.959054638669 not 0 target: 0.988823713759 mu=20712.17569236518 sigma=13353.335508443019 th=0.612131187897\n",
      "Total target 0.953606217411 not 0 target: 0.983750443043 mu=20854.246413430104 sigma=13384.62345485228 th=0.612131187897\n",
      "Total target 0.950916032527 not 0 target: 0.976791950813 mu=21036.960486981254 sigma=13476.05009549925 th=0.612131187897\n",
      "Total target 0.972848621696 not 0 target: 0.989663320122 mu=21102.576819765225 sigma=13533.035950688118 th=0.612131187897\n",
      "Total target 0.976634216499 not 0 target: 0.983837052247 mu=21241.594194386173 sigma=13550.72842934431 th=0.612131187897\n",
      "Total target 0.976992535596 not 0 target: 0.987995084322 mu=21268.145355851066 sigma=13651.841836970569 th=0.612131187897\n",
      "Total target 0.990223841482 not 0 target: 0.992865358523 mu=21307.4976721667 sigma=13698.796690262261 th=0.612131187897\n",
      "Total target 0.979149186807 not 0 target: 0.981401300055 mu=21396.067410209896 sigma=13741.678471757425 th=0.612131187897\n",
      "Total target 0.98536670974 not 0 target: 0.98698631818 mu=21480.61565131429 sigma=13775.715064851112 th=0.612131187897\n",
      "Total target 0.990243784546 not 0 target: 0.985349887216 mu=21578.830233284265 sigma=13810.697062313197 th=0.612131187897\n",
      "Total target 1.00175361879 not 0 target: 0.985107915308 mu=21580.46597072441 sigma=13802.642729304223 th=0.612131187897\n",
      "Total target 1.00691521383 not 0 target: 0.99265534892 mu=21649.60831588902 sigma=13782.398787167967 th=0.612131187897\n",
      "Total target 0.997616067621 not 0 target: 0.989324543165 mu=21726.7557568011 sigma=13784.676299409071 th=0.612131187897\n",
      "Total target 1.00797681376 not 0 target: 0.99094883247 mu=21772.41011664067 sigma=13757.451864019804 th=0.612131187897\n",
      "Total target 1.00604888429 not 0 target: 0.993906812269 mu=21817.301313120654 sigma=13741.889842761746 th=0.612131187897\n",
      "Total target 1.01454289378 not 0 target: 0.996799598026 mu=21822.1896515165 sigma=13710.442652048945 th=0.612131187897\n",
      "Total target 1.00496917186 not 0 target: 0.988334433833 mu=21903.693663067344 sigma=13696.5762752476 th=0.612131187897\n",
      "Total target 1.00713245504 not 0 target: 0.990292004994 mu=21937.11267410913 sigma=13693.220592904936 th=0.612131187897\n",
      "Total target 1.0116015696 not 0 target: 0.993871124221 mu=21946.84498065995 sigma=13648.114173127271 th=0.612131187897\n",
      "Total target 1.0180946245 not 0 target: 0.996267408598 mu=21980.27836606835 sigma=13575.452547136407 th=0.612131187897\n",
      "Total target 1.02111590366 not 0 target: 0.99714075369 mu=21986.741457595923 sigma=13483.84002027509 th=0.612131187897\n",
      "Total target 1.00846619693 not 0 target: 0.994857632315 mu=22006.065007567337 sigma=13455.370926505753 th=0.612131187897\n",
      "Total target 1.01233002648 not 0 target: 0.999670516748 mu=22008.78508319073 sigma=13412.344243974478 th=0.612131187897\n",
      "Total target 1.0118796015 not 0 target: 0.993311672423 mu=22023.418863614457 sigma=13392.602925697473 th=0.612131187897\n",
      "Total target 1.0140060378 not 0 target: 0.995643798623 mu=22060.36119381182 sigma=13340.096199880189 th=0.612131187897\n",
      "Total target 1.01721795726 not 0 target: 1.00004497992 mu=22060.14970035683 sigma=13287.903876788148 th=0.612131187897\n",
      "Total target 1.01738785835 not 0 target: 1.00001522963 mu=22060.065394177127 sigma=13260.208612922195 th=0.612131187897\n",
      "Total target 1.01392238078 not 0 target: 0.998281358443 mu=22060.276219620468 sigma=13216.049326311982 th=0.612131187897\n",
      "Total target 1.00821809269 not 0 target: 0.992957587122 mu=22096.775656982012 sigma=13190.613164870345 th=0.612131187897\n",
      "Total target 1.01831346287 not 0 target: 1.00522907847 mu=22086.38630507734 sigma=13126.44737014231 th=0.612131187897\n",
      "Total target 1.01326549722 not 0 target: 1.00042241419 mu=22083.913230460654 sigma=13084.37909588117 th=0.612131187897\n",
      "Total target 1.01858765327 not 0 target: 1.00340950869 mu=22071.446946085944 sigma=13036.542510333498 th=0.612131187897\n",
      "Total target 1.00957535775 not 0 target: 0.999716940868 mu=22073.78688165176 sigma=13002.950071002475 th=0.612131187897\n",
      "Total target 1.01552290329 not 0 target: 1.00397055314 mu=22069.34867504215 sigma=12997.282594983892 th=0.612131187897\n",
      "Total target 1.01401819482 not 0 target: 1.00494487712 mu=22065.208142444942 sigma=12992.849404591143 th=0.612131187897\n",
      "Total target 1.01360198141 not 0 target: 1.00085569426 mu=22058.729503660517 sigma=12966.712933720473 th=0.612131187897\n",
      "Total target 1.00924146435 not 0 target: 0.999785003217 mu=22059.99794145417 sigma=12934.27769014685 th=0.612131187897\n",
      "Total target 1.00611228589 not 0 target: 1.00152216443 mu=22054.451772218938 sigma=12927.27608563219 th=0.612131187897\n",
      "Total target 1.01512545579 not 0 target: 1.00063074141 mu=22049.561523875767 sigma=12874.59519703068 th=0.612131187897\n",
      "Total target 1.01209699339 not 0 target: 1.001132163 mu=22042.012675987186 sigma=12844.267905924617 th=0.612131187897\n",
      "Total target 1.01319418236 not 0 target: 1.00889006858 mu=21979.263996742426 sigma=12817.66286265661 th=0.612131187897\n",
      "Total target 1.01713812524 not 0 target: 1.01243592389 mu=21926.602401877884 sigma=12807.288146763758 th=0.612131187897\n",
      "Total target 1.01278904098 not 0 target: 1.00845487747 mu=21862.00259050814 sigma=12793.24327214035 th=0.612131187897\n",
      "Total target 0.998180082759 not 0 target: 0.999155279438 mu=21866.37904374735 sigma=12799.479743908485 th=0.612131187897\n",
      "Total target 1.00528514437 not 0 target: 1.00144981167 mu=21859.23921769412 sigma=12792.424113899418 th=0.612131187897\n",
      "Total target 1.00977882443 not 0 target: 1.00449643345 mu=21828.72955063519 sigma=12779.899926544007 th=0.612131187897\n",
      "Total target 0.999185137199 not 0 target: 0.999183443559 mu=21831.65573758072 sigma=12782.807257027978 th=0.612131187897\n",
      "Total target 1.01030401029 not 0 target: 1.0092830775 mu=21779.686144062696 sigma=12777.9372133068 th=0.612131187897\n",
      "Total target 1.00165210959 not 0 target: 1.00287536555 mu=21771.143760715346 sigma=12774.913721585059 th=0.612131187897\n",
      "Total target 0.995566258839 not 0 target: 0.998969627723 mu=21774.763794039744 sigma=12788.63792801713 th=0.612131187897\n",
      "Total target 0.998548353517 not 0 target: 1.00245541973 mu=21767.90101322006 sigma=12789.197453430204 th=0.612131187897\n",
      "Total target 0.997593421655 not 0 target: 0.998076628996 mu=21775.45041799383 sigma=12790.88521462059 th=0.612131187897\n",
      "Total target 0.994855296853 not 0 target: 0.99999221409 mu=21775.473115175348 sigma=12795.08926706104 th=0.612131187897\n",
      "Total target 1.00394218891 not 0 target: 1.00328121672 mu=21769.036377938475 sigma=12792.930451831031 th=0.612131187897\n",
      "Total target 0.999682832486 not 0 target: 1.002538391 mu=21760.182662521707 sigma=12792.939794202193 th=0.612131187897\n",
      "Total target 0.995401337056 not 0 target: 0.997699157928 mu=21763.95773440684 sigma=12804.967434640048 th=0.612131187897\n",
      "Total target 1.00016189724 not 0 target: 1.00214795401 mu=21758.979684665126 sigma=12804.646458600646 th=0.612131187897\n",
      "Total target 1.00051823152 not 0 target: 1.00319237075 mu=21753.473111220184 sigma=12804.047192107775 th=0.612131187897\n",
      "Total target 0.994549050906 not 0 target: 0.997902001087 mu=21756.813199236087 sigma=12821.45082107874 th=0.612131187897\n",
      "Total target 0.998742381805 not 0 target: 1.00091469726 mu=21756.17140308898 sigma=12824.79033787123 th=0.612131187897\n",
      "Total target 1.00446339949 not 0 target: 1.00589102809 mu=21718.44843661444 sigma=12818.637033099192 th=0.612131187897\n",
      "Total target 0.998417130005 not 0 target: 1.00015103252 mu=21717.969816302902 sigma=12819.312506174612 th=0.612131187897\n",
      "Total target 1.0006145714 not 0 target: 1.00232751512 mu=21702.420721811 sigma=12819.28220207382 th=0.612131187897\n",
      "Total target 0.996536491742 not 0 target: 1.00048869114 mu=21701.072186911268 sigma=12823.526580774762 th=0.612131187897\n",
      "Total target 0.998744339591 not 0 target: 1.00305386288 mu=21695.916339779007 sigma=12827.742718559033 th=0.612131187897\n",
      "Total target 0.995832294319 not 0 target: 1.00088341381 mu=21694.55545536355 sigma=12835.466491884787 th=0.612131187897\n",
      "Total target 0.999311513671 not 0 target: 1.00089195152 mu=21691.729963146365 sigma=12837.84997942709 th=0.612131187897\n",
      "Total target 0.999352211254 not 0 target: 1.0041475038 mu=21681.595153596165 sigma=12838.749705398155 th=0.612131187897\n",
      "Total target 0.995680993475 not 0 target: 1.00266396856 mu=21670.308272599625 sigma=12840.19965572894 th=0.612131187897\n",
      "Total target 1.0012784086 not 0 target: 1.00768777362 mu=21652.20444280742 sigma=12837.044991480781 th=0.612131187897\n",
      "Total target 0.995096661549 not 0 target: 1.00200497398 mu=21646.161038992526 sigma=12846.911851420598 th=0.612131187897\n",
      "Total target 0.994127486513 not 0 target: 1.00041487398 mu=21643.538623213983 sigma=12847.767968614411 th=0.612131187897\n",
      "Total target 1.00165889557 not 0 target: 1.00307040259 mu=21643.195618469726 sigma=12843.171320838064 th=0.612131187897\n"
     ]
    }
   ],
   "source": [
    "def generate_random_cerfa():\n",
    "    cerfa = {}\n",
    "\n",
    "    if random.random() < PERCENT_REVENUS_NOT_0 * 1.3:\n",
    "        cerfa['1AJ'] = max(random.gauss(14000, 23500), 0)\n",
    "    else:\n",
    "        cerfa['1AJ'] = 0\n",
    "    return cerfa\n",
    "\n",
    "def gradiant(a, b):\n",
    "    if a > b:\n",
    "        return min((a / b - 1) * random.random(), 0.5)\n",
    "    else:\n",
    "        return min((b / a - 1) * random.random(), 0.5)\n",
    "\n",
    "\n",
    "def find_gaussian_parameters(number_not_0, total_value, distribution_percentage_null=5):\n",
    "    def simulate_population(th, mu, sigma, percentage_repr):\n",
    "        total_result = 0\n",
    "        number_not_null = 0\n",
    "        for i in range(0, int(TOTAL_DECLARATIONS * percentage_repr)):\n",
    "            result = simulate_one_gaussian(th, mu, sigma)\n",
    "            total_result += result\n",
    "            if result > 0:\n",
    "                number_not_null += 1\n",
    "        return number_not_null / percentage_repr, total_result / percentage_repr\n",
    "\n",
    "    def simulate_one_gaussian(th, mu, sigma):\n",
    "        if random.random() < th:\n",
    "            return max(random.gauss(mu, sigma), 0)\n",
    "        return 0\n",
    "\n",
    "    # Between 0 and 1\n",
    "    number_not_0 = float(number_not_0)\n",
    "    total_value = float(total_value)\n",
    "\n",
    "    percentage_repr = 0.001\n",
    "    mu = total_value / number_not_0\n",
    "    sigma = mu / 2\n",
    "    mu_step = mu / 2\n",
    "    sigma_step = sigma / 2\n",
    "    th = (1 + distribution_percentage_null / 100.0) * number_not_0 / TOTAL_DECLARATIONS\n",
    "    print repr(th)\n",
    "    max_number_of_simulations = 100\n",
    "    for i in range(0, max_number_of_simulations):\n",
    "        sim_not_0, sim_tot_value = simulate_population(th, mu, sigma, percentage_repr)\n",
    "        if sim_not_0 > number_not_0:\n",
    "            mu -= mu_step * gradiant(number_not_0, sim_not_0)\n",
    "            # sigma -= sigma_step * gradiant(number_not_0, sim_not_0)\n",
    "        else:\n",
    "            mu += mu_step * gradiant(sim_not_0, number_not_0)\n",
    "            # sigma += sigma_step * gradiant(sim_not_0, number_not_0)\n",
    "\n",
    "        if sim_tot_value > total_value:\n",
    "            # mu -= mu_step * gradiant(total_value, sim_tot_value)\n",
    "            sigma -= sigma_step * gradiant(total_value, sim_tot_value)\n",
    "        else:\n",
    "            # mu += mu_step * gradiant(sim_tot_value, total_value )\n",
    "            sigma += sigma_step * gradiant(sim_tot_value, total_value)\n",
    "        print 'Total target ' + str(sim_tot_value/total_value) + ' not 0 target: ' + str(sim_not_0/number_not_0) + ' mu=' +  repr(mu) + ' sigma=' + repr(sigma) + ' th=' + str(th)\n",
    "        mu_step = mu_step * 0.995\n",
    "        sigma_step = sigma_step * 0.995\n",
    "        percentage_repr = percentage_repr * 1.01\n",
    "\n",
    "\n",
    "find_gaussian_parameters(21820704, 503723963299, distribution_percentage_null=5)"
   ]
  },
  {
   "cell_type": "markdown",
   "metadata": {},
   "source": [
    "### Gestion des situations familiales\n",
    "Idée : obtenir le nombre moyen d'enfant = 1.7"
   ]
  },
  {
   "cell_type": "code",
   "execution_count": 5,
   "metadata": {
    "collapsed": false
   },
   "outputs": [
    {
     "name": "stdout",
     "output_type": "stream",
     "text": [
      "('TOTAL_CHILDREN = ', 173.5)\n"
     ]
    }
   ],
   "source": [
    "# Statistiques by familly, approximated to match the declaration d'impots\n",
    "# Voir la distribution réelle mais bloquer par nbenf > 4 répartition en 3 plus calage car moyenne au-dessus de la réalité\n",
    "CHILDREN_PER_FAMILY = [(1, 46), (2, 38.5), (3, 12.5), (4, 2), (5, 1)]\n",
    "TOTAL_CHILDREN = float(sum(w*c for c, w in CHILDREN_PER_FAMILY))\n",
    "print('TOTAL_CHILDREN = ', float(sum(w*c for c, w in CHILDREN_PER_FAMILY)))\n",
    "# Familles avec enfants a charge de moins de 18 ans\n",
    "FAMILLES = 9321480"
   ]
  },
  {
   "cell_type": "code",
   "execution_count": null,
   "metadata": {
    "collapsed": true
   },
   "outputs": [],
   "source": [
    "def weighted_choice(choices):\n",
    "   total = sum(w for c, w in choices)\n",
    "   r = random.uniform(0, total)\n",
    "   upto = 0\n",
    "   for c, w in choices:\n",
    "      if upto + w >= r:\n",
    "         return c\n",
    "      upto += w\n",
    "   assert False, \"Shouldn't get here\"\n",
    "\n",
    "\n",
    "    # Age is random between 18 and 88\n",
    "    cerfa['0DA'] = int(random.random() * 70 + 18)\n",
    "\n",
    "    # Drawing the situation\n",
    "    # situation = weighted_choice(POSSIBLE_SITUATIONS)\n",
    "    # cerfa[situation] = 1\n",
    "\n",
    "    ## We only give children to married or pacces. This is an approximation\n",
    "    # enfants = 0\n",
    "    # if situation == 'M' or situation == 'O':\n",
    "    #     if random.random() < (FAMILLES / float(POSSIBLE_SITUATIONS[0][1] + POSSIBLE_SITUATIONS[2][1])):\n",
    "    #         enfants = weighted_choice(CHILDREN_PER_FAMILY)\n",
    "    #\n",
    "    # if enfants > 0:\n",
    "    #     cerfa['F'] = enfants\n",
    "\n",
    "    # Distribution that has a cool shape and required properties 5500, 26500"
   ]
  }
 ],
 "metadata": {
  "kernelspec": {
   "display_name": "Python 2",
   "language": "python",
   "name": "python2"
  },
  "language_info": {
   "codemirror_mode": {
    "name": "ipython",
    "version": 2
   },
   "file_extension": ".py",
   "mimetype": "text/x-python",
   "name": "python",
   "nbconvert_exporter": "python",
   "pygments_lexer": "ipython2",
   "version": "2.7.12"
  }
 },
 "nbformat": 4,
 "nbformat_minor": 0
}
