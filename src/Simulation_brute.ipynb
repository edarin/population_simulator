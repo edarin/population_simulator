{
 "cells": [
  {
   "cell_type": "markdown",
   "metadata": {},
   "source": [
    "# Simulation Population\n",
    "\n",
    "Implémentons avec les sommmes aggrégées de [2014](http://www2.impots.gouv.fr/documentation/statistiques/2042_nat/2015/revenus_2014_6e_ano.pdf)"
   ]
  },
  {
   "cell_type": "code",
   "execution_count": 14,
   "metadata": {
    "collapsed": false,
    "scrolled": true
   },
   "outputs": [
    {
     "name": "stdout",
     "output_type": "stream",
     "text": [
      "Populating the interactive namespace from numpy and matplotlib\n"
     ]
    },
    {
     "name": "stderr",
     "output_type": "stream",
     "text": [
      "WARNING: pylab import has clobbered these variables: ['dtype', 'random']\n",
      "`%matplotlib` prevents importing * from pylab and numpy\n"
     ]
    }
   ],
   "source": [
    "import random\n",
    "import numpy as np\n",
    "import pandas as pd\n",
    "%pylab inline"
   ]
  },
  {
   "cell_type": "markdown",
   "metadata": {},
   "source": [
    "### Génération Table Population"
   ]
  },
  {
   "cell_type": "code",
   "execution_count": 15,
   "metadata": {
    "collapsed": false
   },
   "outputs": [
    {
     "data": {
      "text/plain": [
       "(10000, 7)"
      ]
     },
     "execution_count": 15,
     "metadata": {},
     "output_type": "execute_result"
    }
   ],
   "source": [
    "openfisca_entry_variables = ['age','sexe','activite','1AJ', '1AS', '1AP', '1AO'] # à compléter au fur et à mesure\n",
    "sample_size = 10000\n",
    "index = np.arange(sample_size)\n",
    "population = pd.DataFrame(columns = openfisca_entry_variables, index = index)\n",
    "\n",
    "population.shape"
   ]
  },
  {
   "cell_type": "markdown",
   "metadata": {},
   "source": [
    "### Sexe et Age\n",
    "\n",
    "Issu de données INSEE 2016\n",
    "\n",
    "À noter : âge = 100 correspond à 100 et plus"
   ]
  },
  {
   "cell_type": "code",
   "execution_count": 16,
   "metadata": {
    "collapsed": false
   },
   "outputs": [
    {
     "name": "stdout",
     "output_type": "stream",
     "text": [
      "   age   homme   femme   total\n",
      "0    0  391371  374179  765550\n",
      "1    1  403204  385442  788646\n",
      "2    2  405502  386831  792333\n",
      "3    3  412383  391853  804236\n",
      "4    4  416626  399632  816258\n",
      "Effectif de la population l'année concernée :  66627602\n"
     ]
    }
   ],
   "source": [
    "#path à revoir\n",
    "reference_sexe = pd.read_csv(\"data/demographie/pop_age_sexe_2016.csv\")\n",
    "reference_sexe.rename(columns={'age_revolu': 'age'}, inplace=True)\n",
    "\n",
    "assert all([dtype == np.int64 for dtype in reference_sexe.dtypes])\n",
    "\n",
    "# assert all([col == population.columns for col in reference_sexe.columns]) peut-être un jour\n",
    "\n",
    "print(reference_sexe.head())\n",
    "effectif_population = sum(reference_sexe[\"total\"])\n",
    "print \"Effectif de la population l'année concernée : \", effectif_population\n",
    "                        "
   ]
  },
  {
   "cell_type": "code",
   "execution_count": null,
   "metadata": {
    "collapsed": true
   },
   "outputs": [],
   "source": []
  },
  {
   "cell_type": "code",
   "execution_count": 17,
   "metadata": {
    "collapsed": false
   },
   "outputs": [
    {
     "name": "stdout",
     "output_type": "stream",
     "text": [
      "Nombre nécessaire de femmes dans notre échantillon :  5153\n",
      "Nombre nécessaire d'hommes dans notre échantillon :  4847\n"
     ]
    },
    {
     "data": {
      "text/html": [
       "<div>\n",
       "<table border=\"1\" class=\"dataframe\">\n",
       "  <thead>\n",
       "    <tr style=\"text-align: right;\">\n",
       "      <th></th>\n",
       "      <th>age</th>\n",
       "      <th>homme</th>\n",
       "      <th>femme</th>\n",
       "      <th>total</th>\n",
       "      <th>proba_femme</th>\n",
       "      <th>proba_homme</th>\n",
       "    </tr>\n",
       "  </thead>\n",
       "  <tbody>\n",
       "    <tr>\n",
       "      <th>0</th>\n",
       "      <td>0</td>\n",
       "      <td>391371</td>\n",
       "      <td>374179</td>\n",
       "      <td>765550</td>\n",
       "      <td>0.010897</td>\n",
       "      <td>0.012120</td>\n",
       "    </tr>\n",
       "    <tr>\n",
       "      <th>1</th>\n",
       "      <td>1</td>\n",
       "      <td>403204</td>\n",
       "      <td>385442</td>\n",
       "      <td>788646</td>\n",
       "      <td>0.011225</td>\n",
       "      <td>0.012486</td>\n",
       "    </tr>\n",
       "    <tr>\n",
       "      <th>2</th>\n",
       "      <td>2</td>\n",
       "      <td>405502</td>\n",
       "      <td>386831</td>\n",
       "      <td>792333</td>\n",
       "      <td>0.011266</td>\n",
       "      <td>0.012558</td>\n",
       "    </tr>\n",
       "    <tr>\n",
       "      <th>3</th>\n",
       "      <td>3</td>\n",
       "      <td>412383</td>\n",
       "      <td>391853</td>\n",
       "      <td>804236</td>\n",
       "      <td>0.011412</td>\n",
       "      <td>0.012771</td>\n",
       "    </tr>\n",
       "    <tr>\n",
       "      <th>4</th>\n",
       "      <td>4</td>\n",
       "      <td>416626</td>\n",
       "      <td>399632</td>\n",
       "      <td>816258</td>\n",
       "      <td>0.011639</td>\n",
       "      <td>0.012902</td>\n",
       "    </tr>\n",
       "  </tbody>\n",
       "</table>\n",
       "</div>"
      ],
      "text/plain": [
       "   age   homme   femme   total  proba_femme  proba_homme\n",
       "0    0  391371  374179  765550     0.010897     0.012120\n",
       "1    1  403204  385442  788646     0.011225     0.012486\n",
       "2    2  405502  386831  792333     0.011266     0.012558\n",
       "3    3  412383  391853  804236     0.011412     0.012771\n",
       "4    4  416626  399632  816258     0.011639     0.012902"
      ]
     },
     "execution_count": 17,
     "metadata": {},
     "output_type": "execute_result"
    }
   ],
   "source": [
    "nbr_femme = int(sum(reference_sexe['femme']/effectif_population)*sample_size)\n",
    "nbr_homme = sample_size - nbr_femme\n",
    "print \"Nombre nécessaire de femmes dans notre échantillon : \", nbr_femme\n",
    "print \"Nombre nécessaire d'hommes dans notre échantillon : \", nbr_homme\n",
    "\n",
    "#Calcul de la proportion de femmes et d'hommes par âge\n",
    "liste_variable = [\"femme\", \"homme\"]\n",
    "for variable in liste_variable:\n",
    "    reference_sexe[\"proba_{0}\".format(variable)] = reference_sexe[variable]/sum(reference_sexe[variable])\n",
    "\n",
    "np.testing.assert_almost_equal(sum(reference_sexe.proba_femme), 1), \"Nous voulons une probabilité\"\n",
    "np.testing.assert_almost_equal(sum(reference_sexe.proba_homme), 1), \"Nous voulons une probabilité\"\n",
    "\n",
    "reference_sexe.head()"
   ]
  },
  {
   "cell_type": "code",
   "execution_count": 18,
   "metadata": {
    "collapsed": false
   },
   "outputs": [
    {
     "data": {
      "text/html": [
       "<div>\n",
       "<table border=\"1\" class=\"dataframe\">\n",
       "  <thead>\n",
       "    <tr style=\"text-align: right;\">\n",
       "      <th></th>\n",
       "      <th>age</th>\n",
       "      <th>sexe</th>\n",
       "      <th>activite</th>\n",
       "      <th>1AJ</th>\n",
       "      <th>1AS</th>\n",
       "      <th>1AP</th>\n",
       "      <th>1AO</th>\n",
       "    </tr>\n",
       "  </thead>\n",
       "  <tbody>\n",
       "    <tr>\n",
       "      <th>0</th>\n",
       "      <td>NaN</td>\n",
       "      <td>NaN</td>\n",
       "      <td>NaN</td>\n",
       "      <td>NaN</td>\n",
       "      <td>NaN</td>\n",
       "      <td>NaN</td>\n",
       "      <td>NaN</td>\n",
       "    </tr>\n",
       "    <tr>\n",
       "      <th>1</th>\n",
       "      <td>NaN</td>\n",
       "      <td>NaN</td>\n",
       "      <td>NaN</td>\n",
       "      <td>NaN</td>\n",
       "      <td>NaN</td>\n",
       "      <td>NaN</td>\n",
       "      <td>NaN</td>\n",
       "    </tr>\n",
       "    <tr>\n",
       "      <th>2</th>\n",
       "      <td>NaN</td>\n",
       "      <td>NaN</td>\n",
       "      <td>NaN</td>\n",
       "      <td>NaN</td>\n",
       "      <td>NaN</td>\n",
       "      <td>NaN</td>\n",
       "      <td>NaN</td>\n",
       "    </tr>\n",
       "    <tr>\n",
       "      <th>3</th>\n",
       "      <td>NaN</td>\n",
       "      <td>NaN</td>\n",
       "      <td>NaN</td>\n",
       "      <td>NaN</td>\n",
       "      <td>NaN</td>\n",
       "      <td>NaN</td>\n",
       "      <td>NaN</td>\n",
       "    </tr>\n",
       "    <tr>\n",
       "      <th>4</th>\n",
       "      <td>NaN</td>\n",
       "      <td>NaN</td>\n",
       "      <td>NaN</td>\n",
       "      <td>NaN</td>\n",
       "      <td>NaN</td>\n",
       "      <td>NaN</td>\n",
       "      <td>NaN</td>\n",
       "    </tr>\n",
       "  </tbody>\n",
       "</table>\n",
       "</div>"
      ],
      "text/plain": [
       "   age sexe activite  1AJ  1AS  1AP  1AO\n",
       "0  NaN  NaN      NaN  NaN  NaN  NaN  NaN\n",
       "1  NaN  NaN      NaN  NaN  NaN  NaN  NaN\n",
       "2  NaN  NaN      NaN  NaN  NaN  NaN  NaN\n",
       "3  NaN  NaN      NaN  NaN  NaN  NaN  NaN\n",
       "4  NaN  NaN      NaN  NaN  NaN  NaN  NaN"
      ]
     },
     "execution_count": 18,
     "metadata": {},
     "output_type": "execute_result"
    }
   ],
   "source": [
    "\n",
    "population.loc[:nbr_femme].shape\n",
    "population.head()"
   ]
  },
  {
   "cell_type": "code",
   "execution_count": 26,
   "metadata": {
    "collapsed": false,
    "scrolled": false
   },
   "outputs": [
    {
     "data": {
      "text/html": [
       "<div>\n",
       "<table border=\"1\" class=\"dataframe\">\n",
       "  <thead>\n",
       "    <tr style=\"text-align: right;\">\n",
       "      <th></th>\n",
       "      <th>age</th>\n",
       "      <th>sexe</th>\n",
       "      <th>activite</th>\n",
       "      <th>1AJ</th>\n",
       "      <th>1AS</th>\n",
       "      <th>1AP</th>\n",
       "      <th>1AO</th>\n",
       "    </tr>\n",
       "  </thead>\n",
       "  <tbody>\n",
       "    <tr>\n",
       "      <th>0</th>\n",
       "      <td>57</td>\n",
       "      <td>0</td>\n",
       "      <td>NaN</td>\n",
       "      <td>NaN</td>\n",
       "      <td>NaN</td>\n",
       "      <td>NaN</td>\n",
       "      <td>NaN</td>\n",
       "    </tr>\n",
       "    <tr>\n",
       "      <th>1</th>\n",
       "      <td>56</td>\n",
       "      <td>0</td>\n",
       "      <td>NaN</td>\n",
       "      <td>NaN</td>\n",
       "      <td>NaN</td>\n",
       "      <td>NaN</td>\n",
       "      <td>NaN</td>\n",
       "    </tr>\n",
       "    <tr>\n",
       "      <th>2</th>\n",
       "      <td>8</td>\n",
       "      <td>0</td>\n",
       "      <td>NaN</td>\n",
       "      <td>NaN</td>\n",
       "      <td>NaN</td>\n",
       "      <td>NaN</td>\n",
       "      <td>NaN</td>\n",
       "    </tr>\n",
       "    <tr>\n",
       "      <th>3</th>\n",
       "      <td>87</td>\n",
       "      <td>0</td>\n",
       "      <td>NaN</td>\n",
       "      <td>NaN</td>\n",
       "      <td>NaN</td>\n",
       "      <td>NaN</td>\n",
       "      <td>NaN</td>\n",
       "    </tr>\n",
       "    <tr>\n",
       "      <th>4</th>\n",
       "      <td>46</td>\n",
       "      <td>0</td>\n",
       "      <td>NaN</td>\n",
       "      <td>NaN</td>\n",
       "      <td>NaN</td>\n",
       "      <td>NaN</td>\n",
       "      <td>NaN</td>\n",
       "    </tr>\n",
       "  </tbody>\n",
       "</table>\n",
       "</div>"
      ],
      "text/plain": [
       "  age sexe activite  1AJ  1AS  1AP  1AO\n",
       "0  57    0      NaN  NaN  NaN  NaN  NaN\n",
       "1  56    0      NaN  NaN  NaN  NaN  NaN\n",
       "2   8    0      NaN  NaN  NaN  NaN  NaN\n",
       "3  87    0      NaN  NaN  NaN  NaN  NaN\n",
       "4  46    0      NaN  NaN  NaN  NaN  NaN"
      ]
     },
     "execution_count": 26,
     "metadata": {},
     "output_type": "execute_result"
    }
   ],
   "source": [
    "# Génération sexe\n",
    "population.loc[:nbr_femme-1, \"sexe\"] = np.zeros(nbr_femme,dtype=int)\n",
    "population.loc[nbr_femme:, \"sexe\"] = np.ones(nbr_homme, dtype=int)\n",
    "\n",
    "#Génération de l'âge\n",
    "ages = reference_sexe['age'].nunique()\n",
    "population.loc[population['sexe'] == 0, \"age\"] = np.random.choice(ages, nbr_femme, p=reference_sexe.proba_femme)\n",
    "population.loc[population['sexe'] == 1, \"age\"] = np.random.choice(ages, nbr_homme, p=reference_sexe.proba_homme)\n",
    "population.head()"
   ]
  },
  {
   "cell_type": "code",
   "execution_count": 27,
   "metadata": {
    "collapsed": false
   },
   "outputs": [
    {
     "data": {
      "text/html": [
       "<div>\n",
       "<table border=\"1\" class=\"dataframe\">\n",
       "  <thead>\n",
       "    <tr style=\"text-align: right;\">\n",
       "      <th></th>\n",
       "      <th>age</th>\n",
       "      <th>sexe</th>\n",
       "      <th>activite</th>\n",
       "      <th>1AJ</th>\n",
       "      <th>1AS</th>\n",
       "      <th>1AP</th>\n",
       "      <th>1AO</th>\n",
       "    </tr>\n",
       "  </thead>\n",
       "  <tbody>\n",
       "    <tr>\n",
       "      <th>0</th>\n",
       "      <td>15</td>\n",
       "      <td>0</td>\n",
       "      <td>NaN</td>\n",
       "      <td>NaN</td>\n",
       "      <td>NaN</td>\n",
       "      <td>NaN</td>\n",
       "      <td>NaN</td>\n",
       "    </tr>\n",
       "    <tr>\n",
       "      <th>1</th>\n",
       "      <td>8</td>\n",
       "      <td>0</td>\n",
       "      <td>NaN</td>\n",
       "      <td>NaN</td>\n",
       "      <td>NaN</td>\n",
       "      <td>NaN</td>\n",
       "      <td>NaN</td>\n",
       "    </tr>\n",
       "    <tr>\n",
       "      <th>2</th>\n",
       "      <td>77</td>\n",
       "      <td>0</td>\n",
       "      <td>NaN</td>\n",
       "      <td>NaN</td>\n",
       "      <td>NaN</td>\n",
       "      <td>NaN</td>\n",
       "      <td>NaN</td>\n",
       "    </tr>\n",
       "    <tr>\n",
       "      <th>3</th>\n",
       "      <td>77</td>\n",
       "      <td>0</td>\n",
       "      <td>NaN</td>\n",
       "      <td>NaN</td>\n",
       "      <td>NaN</td>\n",
       "      <td>NaN</td>\n",
       "      <td>NaN</td>\n",
       "    </tr>\n",
       "    <tr>\n",
       "      <th>4</th>\n",
       "      <td>60</td>\n",
       "      <td>0</td>\n",
       "      <td>NaN</td>\n",
       "      <td>NaN</td>\n",
       "      <td>NaN</td>\n",
       "      <td>NaN</td>\n",
       "      <td>NaN</td>\n",
       "    </tr>\n",
       "  </tbody>\n",
       "</table>\n",
       "</div>"
      ],
      "text/plain": [
       "  age sexe activite  1AJ  1AS  1AP  1AO\n",
       "0  15    0      NaN  NaN  NaN  NaN  NaN\n",
       "1   8    0      NaN  NaN  NaN  NaN  NaN\n",
       "2  77    0      NaN  NaN  NaN  NaN  NaN\n",
       "3  77    0      NaN  NaN  NaN  NaN  NaN\n",
       "4  60    0      NaN  NaN  NaN  NaN  NaN"
      ]
     },
     "execution_count": 27,
     "metadata": {},
     "output_type": "execute_result"
    }
   ],
   "source": [
    "# Génération sexe\n",
    "population.loc[:nbr_femme-1, \"sexe\"] = np.zeros(nbr_femme,dtype=int)\n",
    "population.loc[nbr_femme:, \"sexe\"] = np.ones(nbr_homme, dtype=int)\n",
    "\n",
    "#Génération de l'âge\n",
    "def simul(table_de_reference, name):\n",
    "    ages = table_de_reference[name].nunique()\n",
    "    population.loc[population['sexe'] == 0, name] = np.random.choice(ages, nbr_femme, p=table_de_reference.proba_femme)\n",
    "    population.loc[population['sexe'] == 1, name] = np.random.choice(ages, nbr_homme, p=table_de_reference.proba_homme)\n",
    "\n",
    "simul(reference_sexe, 'age')\n",
    "population.head()"
   ]
  },
  {
   "cell_type": "code",
   "execution_count": 21,
   "metadata": {
    "collapsed": false
   },
   "outputs": [
    {
     "data": {
      "text/plain": [
       "count    100.000000\n",
       "mean       1.022791\n",
       "std        0.213793\n",
       "min        0.703257\n",
       "25%        0.909691\n",
       "50%        0.989363\n",
       "75%        1.083165\n",
       "max        2.441866\n",
       "dtype: float64"
      ]
     },
     "execution_count": 21,
     "metadata": {},
     "output_type": "execute_result"
    }
   ],
   "source": [
    "#test de la probabilité TODO\n",
    "proportion_finale_femme = population[population['sexe'] == 0].age.value_counts(sort=False, normalize=True)\n",
    "\n",
    "proportion_finale_femme = pd.DataFrame(proportion_finale_femme)\n",
    "proportion_finale_femme.columns = ['proportion_finale_femme']\n",
    "pour_comparaison = reference_sexe.merge(proportion_finale_femme, left_on='age', right_index=True)\n",
    "pour_comparaison[['proportion_finale_femme', 'proba_femme','age']]\n",
    "\n",
    "var_ref = 'proba_femme'\n",
    "var_simul = 'proportion_finale_femme'\n",
    "ratio = pour_comparaison[var_simul]/pour_comparaison[var_ref]\n",
    "ratio.describe()"
   ]
  },
  {
   "cell_type": "markdown",
   "metadata": {},
   "source": [
    "### Activité"
   ]
  },
  {
   "cell_type": "code",
   "execution_count": 22,
   "metadata": {
    "collapsed": false
   },
   "outputs": [
    {
     "name": "stdout",
     "output_type": "stream",
     "text": [
      "Effectif de la population active 28727000\n"
     ]
    },
    {
     "data": {
      "text/html": [
       "<div>\n",
       "<table border=\"1\" class=\"dataframe\">\n",
       "  <thead>\n",
       "    <tr style=\"text-align: right;\">\n",
       "      <th></th>\n",
       "      <th>pop_active</th>\n",
       "      <th>femme</th>\n",
       "      <th>homme</th>\n",
       "      <th>total</th>\n",
       "    </tr>\n",
       "  </thead>\n",
       "  <tbody>\n",
       "    <tr>\n",
       "      <th>0</th>\n",
       "      <td>15-24 ans</td>\n",
       "      <td>1228000</td>\n",
       "      <td>1475000</td>\n",
       "      <td>2703000</td>\n",
       "    </tr>\n",
       "    <tr>\n",
       "      <th>1</th>\n",
       "      <td>25-49 ans</td>\n",
       "      <td>8563000</td>\n",
       "      <td>9274000</td>\n",
       "      <td>17837000</td>\n",
       "    </tr>\n",
       "    <tr>\n",
       "      <th>2</th>\n",
       "      <td>50-64 ans</td>\n",
       "      <td>3879000</td>\n",
       "      <td>4003000</td>\n",
       "      <td>7882000</td>\n",
       "    </tr>\n",
       "    <tr>\n",
       "      <th>3</th>\n",
       "      <td>65 ans ou plus</td>\n",
       "      <td>126000</td>\n",
       "      <td>179000</td>\n",
       "      <td>305000</td>\n",
       "    </tr>\n",
       "  </tbody>\n",
       "</table>\n",
       "</div>"
      ],
      "text/plain": [
       "        pop_active    femme    homme     total\n",
       "0       15-24 ans   1228000  1475000   2703000\n",
       "1       25-49 ans   8563000  9274000  17837000\n",
       "2       50-64 ans   3879000  4003000   7882000\n",
       "3  65 ans ou plus    126000   179000    305000"
      ]
     },
     "execution_count": 22,
     "metadata": {},
     "output_type": "execute_result"
    }
   ],
   "source": [
    "reference_activite = pd.read_csv(\"data/demographie/activite.csv\")\n",
    "reference_activite.dtypes\n",
    "\n",
    "#chiffre issu de INSEE -> comment ne pas le mettre en dur\n",
    "reference_activite[['homme','femme','total']] *= 1000\n",
    "effectif_population_active = sum(reference_activite['total'])\n",
    "print \"Effectif de la population active\", effectif_population_active\n",
    "reference_activite\n"
   ]
  },
  {
   "cell_type": "code",
   "execution_count": 30,
   "metadata": {
    "collapsed": false
   },
   "outputs": [
    {
     "name": "stdout",
     "output_type": "stream",
     "text": [
      "28727000\n"
     ]
    },
    {
     "data": {
      "text/html": [
       "<div>\n",
       "<table border=\"1\" class=\"dataframe\">\n",
       "  <thead>\n",
       "    <tr style=\"text-align: right;\">\n",
       "      <th></th>\n",
       "      <th>pop_active</th>\n",
       "      <th>sexe</th>\n",
       "      <th>activite</th>\n",
       "      <th>variable</th>\n",
       "    </tr>\n",
       "  </thead>\n",
       "  <tbody>\n",
       "    <tr>\n",
       "      <th>0</th>\n",
       "      <td>15-24 ans</td>\n",
       "      <td>femme</td>\n",
       "      <td>1228000</td>\n",
       "      <td>15-24 ans femme</td>\n",
       "    </tr>\n",
       "    <tr>\n",
       "      <th>1</th>\n",
       "      <td>25-49 ans</td>\n",
       "      <td>femme</td>\n",
       "      <td>8563000</td>\n",
       "      <td>25-49 ans femme</td>\n",
       "    </tr>\n",
       "    <tr>\n",
       "      <th>2</th>\n",
       "      <td>50-64 ans</td>\n",
       "      <td>femme</td>\n",
       "      <td>3879000</td>\n",
       "      <td>50-64 ans femme</td>\n",
       "    </tr>\n",
       "    <tr>\n",
       "      <th>3</th>\n",
       "      <td>65 ans ou plus</td>\n",
       "      <td>femme</td>\n",
       "      <td>126000</td>\n",
       "      <td>65 ans ou plus femme</td>\n",
       "    </tr>\n",
       "    <tr>\n",
       "      <th>4</th>\n",
       "      <td>15-24 ans</td>\n",
       "      <td>homme</td>\n",
       "      <td>1475000</td>\n",
       "      <td>15-24 ans homme</td>\n",
       "    </tr>\n",
       "  </tbody>\n",
       "</table>\n",
       "</div>"
      ],
      "text/plain": [
       "        pop_active   sexe  activite              variable\n",
       "0       15-24 ans   femme   1228000       15-24 ans femme\n",
       "1       25-49 ans   femme   8563000       25-49 ans femme\n",
       "2       50-64 ans   femme   3879000       50-64 ans femme\n",
       "3  65 ans ou plus   femme    126000  65 ans ou plus femme\n",
       "4       15-24 ans   homme   1475000       15-24 ans homme"
      ]
     },
     "execution_count": 30,
     "metadata": {},
     "output_type": "execute_result"
    }
   ],
   "source": [
    "a = pd.melt(reference_activite, id_vars=['pop_active'], value_vars=['femme', 'homme','total'], var_name = 'sexe',value_name='activite')\n",
    "\n",
    "a['variable'] = a['pop_active'] +  a['sexe']\n",
    "print(sum(a.activite[:8]))\n",
    "a.head()\n"
   ]
  },
  {
   "cell_type": "code",
   "execution_count": 24,
   "metadata": {
    "collapsed": false
   },
   "outputs": [
    {
     "data": {
      "text/html": [
       "<div>\n",
       "<table border=\"1\" class=\"dataframe\">\n",
       "  <thead>\n",
       "    <tr style=\"text-align: right;\">\n",
       "      <th></th>\n",
       "      <th>age</th>\n",
       "      <th>homme</th>\n",
       "      <th>femme</th>\n",
       "      <th>total</th>\n",
       "      <th>proba_femme</th>\n",
       "      <th>proba_homme</th>\n",
       "    </tr>\n",
       "  </thead>\n",
       "  <tbody>\n",
       "    <tr>\n",
       "      <th>0</th>\n",
       "      <td>0</td>\n",
       "      <td>391371</td>\n",
       "      <td>374179</td>\n",
       "      <td>765550</td>\n",
       "      <td>0.010897</td>\n",
       "      <td>0.012120</td>\n",
       "    </tr>\n",
       "    <tr>\n",
       "      <th>1</th>\n",
       "      <td>1</td>\n",
       "      <td>403204</td>\n",
       "      <td>385442</td>\n",
       "      <td>788646</td>\n",
       "      <td>0.011225</td>\n",
       "      <td>0.012486</td>\n",
       "    </tr>\n",
       "    <tr>\n",
       "      <th>2</th>\n",
       "      <td>2</td>\n",
       "      <td>405502</td>\n",
       "      <td>386831</td>\n",
       "      <td>792333</td>\n",
       "      <td>0.011266</td>\n",
       "      <td>0.012558</td>\n",
       "    </tr>\n",
       "    <tr>\n",
       "      <th>3</th>\n",
       "      <td>3</td>\n",
       "      <td>412383</td>\n",
       "      <td>391853</td>\n",
       "      <td>804236</td>\n",
       "      <td>0.011412</td>\n",
       "      <td>0.012771</td>\n",
       "    </tr>\n",
       "    <tr>\n",
       "      <th>4</th>\n",
       "      <td>4</td>\n",
       "      <td>416626</td>\n",
       "      <td>399632</td>\n",
       "      <td>816258</td>\n",
       "      <td>0.011639</td>\n",
       "      <td>0.012902</td>\n",
       "    </tr>\n",
       "  </tbody>\n",
       "</table>\n",
       "</div>"
      ],
      "text/plain": [
       "   age   homme   femme   total  proba_femme  proba_homme\n",
       "0    0  391371  374179  765550     0.010897     0.012120\n",
       "1    1  403204  385442  788646     0.011225     0.012486\n",
       "2    2  405502  386831  792333     0.011266     0.012558\n",
       "3    3  412383  391853  804236     0.011412     0.012771\n",
       "4    4  416626  399632  816258     0.011639     0.012902"
      ]
     },
     "execution_count": 24,
     "metadata": {},
     "output_type": "execute_result"
    }
   ],
   "source": [
    "reference_sexe.head()"
   ]
  },
  {
   "cell_type": "code",
   "execution_count": 25,
   "metadata": {
    "collapsed": false
   },
   "outputs": [
    {
     "ename": "SyntaxError",
     "evalue": "invalid syntax (<ipython-input-25-f6b1f98f8cc5>, line 1)",
     "output_type": "error",
     "traceback": [
      "\u001b[1;36m  File \u001b[1;32m\"<ipython-input-25-f6b1f98f8cc5>\"\u001b[1;36m, line \u001b[1;32m1\u001b[0m\n\u001b[1;33m    a[\"non_activite\"]=\u001b[0m\n\u001b[1;37m                       ^\u001b[0m\n\u001b[1;31mSyntaxError\u001b[0m\u001b[1;31m:\u001b[0m invalid syntax\n"
     ]
    }
   ],
   "source": [
    "a[\"non_activite\"]= "
   ]
  },
  {
   "cell_type": "code",
   "execution_count": null,
   "metadata": {
    "collapsed": false
   },
   "outputs": [],
   "source": [
    "activite_somme = {name: sum(reference_activite[name]) for name in reference_activite.columns}\n",
    "activite_somme\n"
   ]
  },
  {
   "cell_type": "code",
   "execution_count": null,
   "metadata": {
    "collapsed": false
   },
   "outputs": [],
   "source": [
    "liste_variable = [\"femme\", \"homme\"]\n",
    "for variable in liste_variable:\n",
    "    reference_activite[\"proba_{0}\".format(variable)] = reference_activite[variable]/reference_activite['total']\n",
    "\n",
    "assert sum(reference_activite.proba_femme+reference_activite.proba_homme) == 4, \"Ce sont des probabilités\"\n",
    "# à préciser car forme proba pas explicite\n",
    "reference_activite"
   ]
  },
  {
   "cell_type": "code",
   "execution_count": null,
   "metadata": {
    "collapsed": true
   },
   "outputs": [],
   "source": [
    "#Génération population inactive jeune\n",
    "population.loc[population['age'] < 15, \"activite\"] = 0\n",
    "population[population.age < 15].activite \n",
    "#Population inactive > 65\n",
    "population.loc[(population['age']>15) & (population['age'] < 24) & (population['sexe'] == 0), 'activite'] ="
   ]
  },
  {
   "cell_type": "code",
   "execution_count": null,
   "metadata": {
    "collapsed": true
   },
   "outputs": [],
   "source": []
  },
  {
   "cell_type": "code",
   "execution_count": null,
   "metadata": {
    "collapsed": true
   },
   "outputs": [],
   "source": []
  },
  {
   "cell_type": "code",
   "execution_count": null,
   "metadata": {
    "collapsed": false
   },
   "outputs": [],
   "source": [
    "nbr_population_active = int(sum(reference_activite[\"total\"]/effectif_population)*sample_size)\n",
    "print \"Effectif populaction active dans notre échantillon \", nbr_population_active\n",
    "nbr_population_inactive = sample_size - nbr_population_active\n",
    "print \"Effectif populaction inactive dans notre échantillon \", nbr_population_inactive\n",
    "\n",
    "#Calcul de la proportion de femmes et d'hommes actifs par âge\n",
    "liste_variable = [\"femme\", \"homme\"]\n",
    "for variable in liste_variable:\n",
    "    reference_activite[\"proba_{0}\".format(variable)] = reference_activite[variable]/sum(reference_activite[variable])\n",
    "\n",
    "assert sum(reference_activite.proba_femme) == 1, \"Nous voulons une probabilité\"\n",
    "assert sum(reference_activite.proba_homme) == 1, \"Nous voulons une probabilité\"\n",
    "\n",
    "reference_activite.head()"
   ]
  },
  {
   "cell_type": "code",
   "execution_count": null,
   "metadata": {
    "collapsed": false
   },
   "outputs": [],
   "source": [
    "reference_activite.T.head()"
   ]
  },
  {
   "cell_type": "code",
   "execution_count": null,
   "metadata": {
    "collapsed": true
   },
   "outputs": [],
   "source": []
  },
  {
   "cell_type": "code",
   "execution_count": null,
   "metadata": {
    "collapsed": false
   },
   "outputs": [],
   "source": [
    "population.loc[(population['sexe'] == 0) & (population['age'] > 65), 'activite'] "
   ]
  },
  {
   "cell_type": "code",
   "execution_count": null,
   "metadata": {
    "collapsed": false
   },
   "outputs": [],
   "source": [
    "population.loc[(population['sexe'] == 0 &, name] = np.random.choice(ages, nbr_femme, p=table_de_reference.proba_femme)\n",
    "population.loc[population['sexe'] == 1, name] = np.random.choice(ages, nbr_homme, p=table_de_reference.proba_homme)\n"
   ]
  },
  {
   "cell_type": "code",
   "execution_count": null,
   "metadata": {
    "collapsed": false,
    "scrolled": true
   },
   "outputs": [],
   "source": [
    "population.loc[(population['sexe'] == 0) & (population['age'] > 15), 'activite'] = np.random.choice(nb.arange(2), nbr_femme, p=table_de_reference.proba_femme)"
   ]
  },
  {
   "cell_type": "code",
   "execution_count": null,
   "metadata": {
    "collapsed": true
   },
   "outputs": [],
   "source": []
  },
  {
   "cell_type": "code",
   "execution_count": null,
   "metadata": {
    "collapsed": true
   },
   "outputs": [],
   "source": []
  },
  {
   "cell_type": "code",
   "execution_count": null,
   "metadata": {
    "collapsed": true
   },
   "outputs": [],
   "source": []
  },
  {
   "cell_type": "code",
   "execution_count": null,
   "metadata": {
    "collapsed": true
   },
   "outputs": [],
   "source": []
  },
  {
   "cell_type": "code",
   "execution_count": null,
   "metadata": {
    "collapsed": true
   },
   "outputs": [],
   "source": []
  },
  {
   "cell_type": "code",
   "execution_count": null,
   "metadata": {
    "collapsed": true
   },
   "outputs": [],
   "source": []
  },
  {
   "cell_type": "code",
   "execution_count": null,
   "metadata": {
    "collapsed": true
   },
   "outputs": [],
   "source": [
    "revenus = [21820704, 503723963299] # (nbr de déclarant en case 1aj, montant total de cette case) -> 2014\n",
    "revenus_moy = revenus[1] / float(revenus[0])\n",
    "pourcent= REVENUS[0] / float(nbr_foyer)"
   ]
  },
  {
   "cell_type": "code",
   "execution_count": null,
   "metadata": {
    "collapsed": false,
    "scrolled": true
   },
   "outputs": [],
   "source": [
    "def generate_random_cerfa():\n",
    "    cerfa = {}\n",
    "\n",
    "    if random.random() < PERCENT_REVENUS_NOT_0 * 1.3:\n",
    "        cerfa['1AJ'] = max(random.gauss(14000, 23500), 0)\n",
    "    else:\n",
    "        cerfa['1AJ'] = 0\n",
    "    return cerfa\n",
    "\n",
    "def gradiant(a, b):\n",
    "    if a > b:\n",
    "        return min((a / b - 1) * random.random(), 0.5)\n",
    "    else:\n",
    "        return min((b / a - 1) * random.random(), 0.5)\n",
    "\n",
    "\n",
    "def find_gaussian_parameters(number_not_0, total_value, distribution_percentage_null=5):\n",
    "    def simulate_population(th, mu, sigma, percentage_repr):\n",
    "        total_result = 0\n",
    "        number_not_null = 0\n",
    "        for i in range(0, int(TOTAL_DECLARATIONS * percentage_repr)):\n",
    "            result = simulate_one_gaussian(th, mu, sigma)\n",
    "            total_result += result\n",
    "            if result > 0:\n",
    "                number_not_null += 1\n",
    "        return number_not_null / percentage_repr, total_result / percentage_repr\n",
    "\n",
    "    def simulate_one_gaussian(th, mu, sigma):\n",
    "        if random.random() < th:\n",
    "            return max(random.gauss(mu, sigma), 0)\n",
    "        return 0\n",
    "\n",
    "    # Between 0 and 1\n",
    "    number_not_0 = float(number_not_0)\n",
    "    total_value = float(total_value)\n",
    "\n",
    "    percentage_repr = 0.001\n",
    "    mu = total_value / number_not_0\n",
    "    sigma = mu / 2\n",
    "    mu_step = mu / 2\n",
    "    sigma_step = sigma / 2\n",
    "    th = (1 + distribution_percentage_null / 100.0) * number_not_0 / TOTAL_DECLARATIONS\n",
    "    print repr(th)\n",
    "    max_number_of_simulations = 100\n",
    "    for i in range(0, max_number_of_simulations):\n",
    "        sim_not_0, sim_tot_value = simulate_population(th, mu, sigma, percentage_repr)\n",
    "        if sim_not_0 > number_not_0:\n",
    "            mu -= mu_step * gradiant(number_not_0, sim_not_0)\n",
    "            # sigma -= sigma_step * gradiant(number_not_0, sim_not_0)\n",
    "        else:\n",
    "            mu += mu_step * gradiant(sim_not_0, number_not_0)\n",
    "            # sigma += sigma_step * gradiant(sim_not_0, number_not_0)\n",
    "\n",
    "        if sim_tot_value > total_value:\n",
    "            # mu -= mu_step * gradiant(total_value, sim_tot_value)\n",
    "            sigma -= sigma_step * gradiant(total_value, sim_tot_value)\n",
    "        else:\n",
    "            # mu += mu_step * gradiant(sim_tot_value, total_value )\n",
    "            sigma += sigma_step * gradiant(sim_tot_value, total_value)\n",
    "        print 'Total target ' + str(sim_tot_value/total_value) + ' not 0 target: ' + str(sim_not_0/number_not_0) + ' mu=' +  repr(mu) + ' sigma=' + repr(sigma) + ' th=' + str(th)\n",
    "        mu_step = mu_step * 0.995\n",
    "        sigma_step = sigma_step * 0.995\n",
    "        percentage_repr = percentage_repr * 1.01\n",
    "\n",
    "\n",
    "find_gaussian_parameters(21820704, 503723963299, distribution_percentage_null=5)"
   ]
  },
  {
   "cell_type": "markdown",
   "metadata": {},
   "source": [
    "### Gestion des situations familiales\n",
    "Idée : obtenir le nombre moyen d'enfant = 1.7"
   ]
  },
  {
   "cell_type": "code",
   "execution_count": null,
   "metadata": {
    "collapsed": false
   },
   "outputs": [],
   "source": [
    "# Statistiques by familly, approximated to match the declaration d'impots\n",
    "# Voir la distribution réelle mais bloquer par nbenf > 4 répartition en 3 plus calage car moyenne au-dessus de la réalité\n",
    "CHILDREN_PER_FAMILY = [(1, 46), (2, 38.5), (3, 12.5), (4, 2), (5, 1)]\n",
    "TOTAL_CHILDREN = float(sum(w*c for c, w in CHILDREN_PER_FAMILY))\n",
    "print('TOTAL_CHILDREN = ', float(sum(w*c for c, w in CHILDREN_PER_FAMILY)))\n",
    "# Familles avec enfants a charge de moins de 18 ans\n",
    "FAMILLES = 9321480"
   ]
  },
  {
   "cell_type": "code",
   "execution_count": null,
   "metadata": {
    "collapsed": true
   },
   "outputs": [],
   "source": [
    "def weighted_choice(choices):\n",
    "   total = sum(w for c, w in choices)\n",
    "   r = random.uniform(0, total)\n",
    "   upto = 0\n",
    "   for c, w in choices:\n",
    "      if upto + w >= r:\n",
    "         return c\n",
    "      upto += w\n",
    "   assert False, \"Shouldn't get here\"\n",
    "\n",
    "\n",
    "    # Age is random between 18 and 88\n",
    "    cerfa['0DA'] = int(random.random() * 70 + 18)\n",
    "\n",
    "    # Drawing the situation\n",
    "    # situation = weighted_choice(POSSIBLE_SITUATIONS)\n",
    "    # cerfa[situation] = 1\n",
    "\n",
    "    ## We only give children to married or pacces. This is an approximation\n",
    "    # enfants = 0\n",
    "    # if situation == 'M' or situation == 'O':\n",
    "    #     if random.random() < (FAMILLES / float(POSSIBLE_SITUATIONS[0][1] + POSSIBLE_SITUATIONS[2][1])):\n",
    "    #         enfants = weighted_choice(CHILDREN_PER_FAMILY)\n",
    "    #\n",
    "    # if enfants > 0:\n",
    "    #     cerfa['F'] = enfants\n",
    "\n",
    "    # Distribution that has a cool shape and required properties 5500, 26500"
   ]
  },
  {
   "cell_type": "code",
   "execution_count": null,
   "metadata": {
    "collapsed": false
   },
   "outputs": [],
   "source": [
    "situations = [['M', 12002841], ['D', 5510809], ['O', 983754], ['C', 14934477], ['V', 3997578]]\n",
    "nbr_foyer = int(sum(w for c, w in situations))\n",
    "print\"Nombre de déclarations :\",nbr_foyer\n",
    "\n",
    "#to do : pour l'instant références implémentées en dur\n",
    "\n",
    "pourcent_situations = situations # connaitre la proportion pour distribuer\n",
    "for x in pourcent_situations :\n",
    "    x[1] = float(x[1])/nbr_foyer\n",
    "pourcent_situations\n",
    "\n",
    "openfisca_entry_variables = ['1AJ', '1AS', '1AP', '1AO'] # à compléter au fur et à mesure\n",
    "index = np.arange(nbr_foyer/1000)\n",
    "population = pd.DataFrame(columns=openfisca_entry_variables, index = index)\n",
    "len(population)\n",
    "population.head()"
   ]
  }
 ],
 "metadata": {
  "anaconda-cloud": {},
  "kernelspec": {
   "display_name": "Python [py27]",
   "language": "python",
   "name": "Python [py27]"
  },
  "language_info": {
   "codemirror_mode": {
    "name": "ipython",
    "version": 2
   },
   "file_extension": ".py",
   "mimetype": "text/x-python",
   "name": "python",
   "nbconvert_exporter": "python",
   "pygments_lexer": "ipython2",
   "version": "2.7.12"
  }
 },
 "nbformat": 4,
 "nbformat_minor": 0
}
