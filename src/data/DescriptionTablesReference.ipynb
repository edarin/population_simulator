{
 "cells": [
  {
   "cell_type": "code",
   "execution_count": 2,
   "metadata": {
    "collapsed": true
   },
   "outputs": [],
   "source": [
    "import numpy as np\n",
    "import pandas as pd"
   ]
  },
  {
   "cell_type": "markdown",
   "metadata": {},
   "source": [
    "### Les tables concernant l'âge et le sexe\n",
    "\n",
    "**Output** : pop_age_sexe_2016.csv\n",
    "\n",
    "**Input** :\n",
    "Table générée à partir de pop-1janvier-fe.xls (https://www.insee.fr/fr/statistiques/1892086) \n",
    "\n",
    "- Source : Insee, estimations de population (résultats provisoires arrêtés à fin 2015).\n",
    "- Champ : France y compris Mayotte.\n",
    "\n",
    "*Warning* : âge = 100 correspond à 100 et plus\n"
   ]
  },
  {
   "cell_type": "code",
   "execution_count": 2,
   "metadata": {
    "collapsed": false
   },
   "outputs": [
    {
     "data": {
      "text/html": [
       "<div>\n",
       "<table border=\"1\" class=\"dataframe\">\n",
       "  <thead>\n",
       "    <tr style=\"text-align: right;\">\n",
       "      <th></th>\n",
       "      <th>age</th>\n",
       "      <th>femme</th>\n",
       "      <th>homme</th>\n",
       "      <th>total</th>\n",
       "    </tr>\n",
       "  </thead>\n",
       "  <tbody>\n",
       "    <tr>\n",
       "      <th>0</th>\n",
       "      <td>0</td>\n",
       "      <td>374179</td>\n",
       "      <td>391371</td>\n",
       "      <td>765550</td>\n",
       "    </tr>\n",
       "    <tr>\n",
       "      <th>1</th>\n",
       "      <td>1</td>\n",
       "      <td>385442</td>\n",
       "      <td>403204</td>\n",
       "      <td>788646</td>\n",
       "    </tr>\n",
       "    <tr>\n",
       "      <th>2</th>\n",
       "      <td>2</td>\n",
       "      <td>386831</td>\n",
       "      <td>405502</td>\n",
       "      <td>792333</td>\n",
       "    </tr>\n",
       "    <tr>\n",
       "      <th>3</th>\n",
       "      <td>3</td>\n",
       "      <td>391853</td>\n",
       "      <td>412383</td>\n",
       "      <td>804236</td>\n",
       "    </tr>\n",
       "    <tr>\n",
       "      <th>4</th>\n",
       "      <td>4</td>\n",
       "      <td>399632</td>\n",
       "      <td>416626</td>\n",
       "      <td>816258</td>\n",
       "    </tr>\n",
       "  </tbody>\n",
       "</table>\n",
       "</div>"
      ],
      "text/plain": [
       "   age   femme   homme   total\n",
       "0    0  374179  391371  765550\n",
       "1    1  385442  403204  788646\n",
       "2    2  386831  405502  792333\n",
       "3    3  391853  412383  804236\n",
       "4    4  399632  416626  816258"
      ]
     },
     "execution_count": 2,
     "metadata": {},
     "output_type": "execute_result"
    }
   ],
   "source": [
    "pd.read_csv(\"data/demographie/pop_age_sexe_2016.csv\").head()"
   ]
  },
  {
   "cell_type": "markdown",
   "metadata": {},
   "source": [
    "### Les tables concernant le statut d'actif.ve\n",
    "\n",
    "**Output**: activite_2015.csv\n",
    "\n",
    "**Input** : Table générée à partir de activite.xls, https://www.insee.fr/fr/statistiques/2045153?sommaire=2045174\n",
    "\n",
    "\n",
    "- Champ : France métropolitaine, population des ménages, actifs de 15 ans ou plus.\n",
    "- Source : Insee, enquête Emploi.\n",
    "- 2015"
   ]
  },
  {
   "cell_type": "code",
   "execution_count": 4,
   "metadata": {
    "collapsed": false
   },
   "outputs": [
    {
     "data": {
      "text/html": [
       "<div>\n",
       "<table border=\"1\" class=\"dataframe\">\n",
       "  <thead>\n",
       "    <tr style=\"text-align: right;\">\n",
       "      <th></th>\n",
       "      <th>classe_age</th>\n",
       "      <th>femme</th>\n",
       "      <th>homme</th>\n",
       "      <th>total</th>\n",
       "    </tr>\n",
       "  </thead>\n",
       "  <tbody>\n",
       "    <tr>\n",
       "      <th>0</th>\n",
       "      <td>0-14 ans</td>\n",
       "      <td>0</td>\n",
       "      <td>0</td>\n",
       "      <td>0</td>\n",
       "    </tr>\n",
       "    <tr>\n",
       "      <th>1</th>\n",
       "      <td>15-24 ans</td>\n",
       "      <td>1228</td>\n",
       "      <td>1475</td>\n",
       "      <td>2703</td>\n",
       "    </tr>\n",
       "    <tr>\n",
       "      <th>2</th>\n",
       "      <td>25-49 ans</td>\n",
       "      <td>8563</td>\n",
       "      <td>9274</td>\n",
       "      <td>17837</td>\n",
       "    </tr>\n",
       "    <tr>\n",
       "      <th>3</th>\n",
       "      <td>50-64 ans</td>\n",
       "      <td>3879</td>\n",
       "      <td>4003</td>\n",
       "      <td>7882</td>\n",
       "    </tr>\n",
       "    <tr>\n",
       "      <th>4</th>\n",
       "      <td>65 ans ou plus</td>\n",
       "      <td>126</td>\n",
       "      <td>179</td>\n",
       "      <td>305</td>\n",
       "    </tr>\n",
       "  </tbody>\n",
       "</table>\n",
       "</div>"
      ],
      "text/plain": [
       "       classe_age  femme  homme  total\n",
       "0        0-14 ans      0      0      0\n",
       "1       15-24 ans   1228   1475   2703\n",
       "2       25-49 ans   8563   9274  17837\n",
       "3       50-64 ans   3879   4003   7882\n",
       "4  65 ans ou plus    126    179    305"
      ]
     },
     "execution_count": 4,
     "metadata": {},
     "output_type": "execute_result"
    }
   ],
   "source": [
    "pd.read_csv(\"data/travail/activite_2015.csv\")"
   ]
  },
  {
   "cell_type": "markdown",
   "metadata": {},
   "source": [
    "### Les tables concernant le statut d'actif.ve occupée\n",
    "\n",
    "Taux de chômage trimestriel au sens du BIT en France (hors Mayotte)\n",
    "\n",
    "**Output ** : chomage.csv\n",
    "\n",
    "**Input **: Tableau généré à partir de sl_chomage.xls, https://www.insee.fr/fr/statistiques/2045144?sommaire=2045174\n",
    "\n",
    "\n",
    "- Données CVS en moyenne trimestrielle, en %\n",
    "- Champ : France (hors Mayotte), population des ménages, personnes de 15 ans ou plus\n",
    "- Source : Insee, enquête Emploi, 2016(T1)"
   ]
  },
  {
   "cell_type": "code",
   "execution_count": 5,
   "metadata": {
    "collapsed": false
   },
   "outputs": [
    {
     "data": {
      "text/html": [
       "<div>\n",
       "<table border=\"1\" class=\"dataframe\">\n",
       "  <thead>\n",
       "    <tr style=\"text-align: right;\">\n",
       "      <th></th>\n",
       "      <th>classe_age_chomage</th>\n",
       "      <th>femme</th>\n",
       "      <th>homme</th>\n",
       "    </tr>\n",
       "  </thead>\n",
       "  <tbody>\n",
       "    <tr>\n",
       "      <th>0</th>\n",
       "      <td>15-24</td>\n",
       "      <td>23.4</td>\n",
       "      <td>25.8</td>\n",
       "    </tr>\n",
       "    <tr>\n",
       "      <th>1</th>\n",
       "      <td>25-49</td>\n",
       "      <td>9.5</td>\n",
       "      <td>9.7</td>\n",
       "    </tr>\n",
       "    <tr>\n",
       "      <th>2</th>\n",
       "      <td>&gt;49</td>\n",
       "      <td>6.4</td>\n",
       "      <td>6.9</td>\n",
       "    </tr>\n",
       "  </tbody>\n",
       "</table>\n",
       "</div>"
      ],
      "text/plain": [
       "  classe_age_chomage  femme  homme\n",
       "0              15-24   23.4   25.8\n",
       "1              25-49    9.5    9.7\n",
       "2                >49    6.4    6.9"
      ]
     },
     "execution_count": 5,
     "metadata": {},
     "output_type": "execute_result"
    }
   ],
   "source": [
    "pd.read_csv(\"data/travail/chomage.csv\")"
   ]
  },
  {
   "cell_type": "markdown",
   "metadata": {},
   "source": [
    "### Tables concernant les pensions de retraite\n",
    "\n",
    "**Output** : retraite_2012.csv\n",
    "\n",
    "**Input** : Table générée à partir de NATCCF04564.xls.\n",
    "\n",
    "Montant moyen mensuel de la retraite globale   \n",
    "- Champ : retraités de droit direct, âgés de 65 ans ou plus,\n",
    "   nés en France ou à l'étranger, résidents en France ou à l'étranger.\n",
    "   Les retraités ne percevant qu'une pension de réversion sont exclus.\n",
    "- Source : Drees, échantillon interrégimes de retraités 2012."
   ]
  },
  {
   "cell_type": "code",
   "execution_count": 6,
   "metadata": {
    "collapsed": false
   },
   "outputs": [
    {
     "data": {
      "text/html": [
       "<div>\n",
       "<table border=\"1\" class=\"dataframe\">\n",
       "  <thead>\n",
       "    <tr style=\"text-align: right;\">\n",
       "      <th></th>\n",
       "      <th>classe_age_retraite</th>\n",
       "      <th>femme</th>\n",
       "      <th>homme</th>\n",
       "    </tr>\n",
       "  </thead>\n",
       "  <tbody>\n",
       "    <tr>\n",
       "      <th>0</th>\n",
       "      <td>65 à 69 ans</td>\n",
       "      <td>1259</td>\n",
       "      <td>1797</td>\n",
       "    </tr>\n",
       "    <tr>\n",
       "      <th>1</th>\n",
       "      <td>70 à 74 ans</td>\n",
       "      <td>1212</td>\n",
       "      <td>1713</td>\n",
       "    </tr>\n",
       "    <tr>\n",
       "      <th>2</th>\n",
       "      <td>75 à 79 ans</td>\n",
       "      <td>1173</td>\n",
       "      <td>1626</td>\n",
       "    </tr>\n",
       "    <tr>\n",
       "      <th>3</th>\n",
       "      <td>80 à 84 ans</td>\n",
       "      <td>1225</td>\n",
       "      <td>1623</td>\n",
       "    </tr>\n",
       "    <tr>\n",
       "      <th>4</th>\n",
       "      <td>85 ans et plus</td>\n",
       "      <td>1330</td>\n",
       "      <td>1687</td>\n",
       "    </tr>\n",
       "  </tbody>\n",
       "</table>\n",
       "</div>"
      ],
      "text/plain": [
       "  classe_age_retraite  femme  homme\n",
       "0         65 à 69 ans   1259   1797\n",
       "1         70 à 74 ans   1212   1713\n",
       "2         75 à 79 ans   1173   1626\n",
       "3         80 à 84 ans   1225   1623\n",
       "4      85 ans et plus   1330   1687"
      ]
     },
     "execution_count": 6,
     "metadata": {},
     "output_type": "execute_result"
    }
   ],
   "source": [
    "pd.read_csv(\"data/travail/retraite_2012.csv\")"
   ]
  },
  {
   "cell_type": "markdown",
   "metadata": {},
   "source": [
    "### Tables concernant le statut d'étudiant\n",
    "\n",
    "**Output** : etudes.csv\n",
    "\n",
    "**Input** : Table générée à partir de NATTEF07116.xls\n",
    "\n",
    "- Champ : France (hors Mayotte), enseignement public et privé, y c. scolarisation en apprentissage.\n",
    "- Source : Depp.\n",
    "- 2013\n"
   ]
  },
  {
   "cell_type": "code",
   "execution_count": 7,
   "metadata": {
    "collapsed": false
   },
   "outputs": [
    {
     "data": {
      "text/html": [
       "<div>\n",
       "<table border=\"1\" class=\"dataframe\">\n",
       "  <thead>\n",
       "    <tr style=\"text-align: right;\">\n",
       "      <th></th>\n",
       "      <th>age</th>\n",
       "      <th>proba_etudes</th>\n",
       "    </tr>\n",
       "  </thead>\n",
       "  <tbody>\n",
       "    <tr>\n",
       "      <th>0</th>\n",
       "      <td>15 ans</td>\n",
       "      <td>97.8</td>\n",
       "    </tr>\n",
       "    <tr>\n",
       "      <th>1</th>\n",
       "      <td>16 ans</td>\n",
       "      <td>94.2</td>\n",
       "    </tr>\n",
       "    <tr>\n",
       "      <th>2</th>\n",
       "      <td>17 ans</td>\n",
       "      <td>90.3</td>\n",
       "    </tr>\n",
       "    <tr>\n",
       "      <th>3</th>\n",
       "      <td>18 ans</td>\n",
       "      <td>77.4</td>\n",
       "    </tr>\n",
       "    <tr>\n",
       "      <th>4</th>\n",
       "      <td>19 ans</td>\n",
       "      <td>64.1</td>\n",
       "    </tr>\n",
       "    <tr>\n",
       "      <th>5</th>\n",
       "      <td>20 ans</td>\n",
       "      <td>53.3</td>\n",
       "    </tr>\n",
       "    <tr>\n",
       "      <th>6</th>\n",
       "      <td>21 ans</td>\n",
       "      <td>43.0</td>\n",
       "    </tr>\n",
       "    <tr>\n",
       "      <th>7</th>\n",
       "      <td>22 ans</td>\n",
       "      <td>35.8</td>\n",
       "    </tr>\n",
       "    <tr>\n",
       "      <th>8</th>\n",
       "      <td>23 ans</td>\n",
       "      <td>26.3</td>\n",
       "    </tr>\n",
       "    <tr>\n",
       "      <th>9</th>\n",
       "      <td>24 ans</td>\n",
       "      <td>17.4</td>\n",
       "    </tr>\n",
       "    <tr>\n",
       "      <th>10</th>\n",
       "      <td>25 ans</td>\n",
       "      <td>11.1</td>\n",
       "    </tr>\n",
       "  </tbody>\n",
       "</table>\n",
       "</div>"
      ],
      "text/plain": [
       "       age  proba_etudes\n",
       "0   15 ans          97.8\n",
       "1   16 ans          94.2\n",
       "2   17 ans          90.3\n",
       "3   18 ans          77.4\n",
       "4   19 ans          64.1\n",
       "5   20 ans          53.3\n",
       "6   21 ans          43.0\n",
       "7   22 ans          35.8\n",
       "8   23 ans          26.3\n",
       "9   24 ans          17.4\n",
       "10  25 ans          11.1"
      ]
     },
     "execution_count": 7,
     "metadata": {},
     "output_type": "execute_result"
    }
   ],
   "source": [
    "pd.read_csv(\"data/demographie/etudes.csv\")"
   ]
  },
  {
   "cell_type": "markdown",
   "metadata": {
    "collapsed": true
   },
   "source": [
    "### Tables concernant le handicap\n",
    "\n",
    "**Output**: handicap_pop.csv\n",
    "\n",
    "**Input**: Table générée à partir de handicap.ods\n",
    "\n",
    "- Champ : population âgée de 15 à 64 ans en France métropolitaine vivant en ménage ordinaire (collectivités exclues).\n",
    "- Source : Dares, enquête complémentaire à l'enquête Emploi 2007.\n",
    "- Personnes ayant une reconnaissance administrative du handicap.\n",
    "- http://www.insee.fr/fr/themes/document.asp?ref_id=T11F037\n",
    "\n"
   ]
  },
  {
   "cell_type": "code",
   "execution_count": 2,
   "metadata": {
    "collapsed": false
   },
   "outputs": [
    {
     "data": {
      "text/html": [
       "<div>\n",
       "<table border=\"1\" class=\"dataframe\">\n",
       "  <thead>\n",
       "    <tr style=\"text-align: right;\">\n",
       "      <th></th>\n",
       "      <th>classe_age_handicap</th>\n",
       "      <th>homme</th>\n",
       "      <th>femme</th>\n",
       "    </tr>\n",
       "  </thead>\n",
       "  <tbody>\n",
       "    <tr>\n",
       "      <th>0</th>\n",
       "      <td>15 à 24 ans</td>\n",
       "      <td>3</td>\n",
       "      <td>4</td>\n",
       "    </tr>\n",
       "    <tr>\n",
       "      <th>1</th>\n",
       "      <td>25 à 39 ans</td>\n",
       "      <td>20</td>\n",
       "      <td>17</td>\n",
       "    </tr>\n",
       "    <tr>\n",
       "      <th>2</th>\n",
       "      <td>40 à 49 ans</td>\n",
       "      <td>27</td>\n",
       "      <td>30</td>\n",
       "    </tr>\n",
       "    <tr>\n",
       "      <th>3</th>\n",
       "      <td>50 à 64 ans</td>\n",
       "      <td>50</td>\n",
       "      <td>49</td>\n",
       "    </tr>\n",
       "    <tr>\n",
       "      <th>4</th>\n",
       "      <td>Effectifs</td>\n",
       "      <td>998000</td>\n",
       "      <td>815000</td>\n",
       "    </tr>\n",
       "  </tbody>\n",
       "</table>\n",
       "</div>"
      ],
      "text/plain": [
       "  classe_age_handicap   homme   femme\n",
       "0         15 à 24 ans       3       4\n",
       "1         25 à 39 ans      20      17\n",
       "2         40 à 49 ans      27      30\n",
       "3         50 à 64 ans      50      49\n",
       "4           Effectifs  998000  815000"
      ]
     },
     "execution_count": 2,
     "metadata": {},
     "output_type": "execute_result"
    }
   ],
   "source": [
    " pd.read_csv(\"data/demographie/handicap_pop.csv\")"
   ]
  },
  {
   "cell_type": "markdown",
   "metadata": {},
   "source": [
    "### Tables concernant le satut marital\n",
    "\n",
    "**Output** : statut_marital_femme.csv et statut_marital_homme.csv\n",
    "\n",
    "**Input** : Tables générées à partir de irsocsd2014_fe_t6.xls\n",
    "\n",
    "- N.B. La répartition par état matrimonial est provisoire ; elle n'est pas disponible à partir de 90 ans.\n",
    "- Champ : France inclus Mayotte\n",
    "- Source : Insee, estimations de population\n",
    "- 1er janvier 2015\n"
   ]
  },
  {
   "cell_type": "code",
   "execution_count": 5,
   "metadata": {
    "collapsed": false
   },
   "outputs": [
    {
     "data": {
      "text/html": [
       "<div>\n",
       "<table border=\"1\" class=\"dataframe\">\n",
       "  <thead>\n",
       "    <tr style=\"text-align: right;\">\n",
       "      <th></th>\n",
       "      <th>age</th>\n",
       "      <th>total</th>\n",
       "      <th>celib</th>\n",
       "      <th>marrie</th>\n",
       "      <th>veuf</th>\n",
       "      <th>divorce</th>\n",
       "    </tr>\n",
       "  </thead>\n",
       "  <tbody>\n",
       "    <tr>\n",
       "      <th>0</th>\n",
       "      <td>0</td>\n",
       "      <td>384347</td>\n",
       "      <td>384347</td>\n",
       "      <td>0</td>\n",
       "      <td>0</td>\n",
       "      <td>0</td>\n",
       "    </tr>\n",
       "    <tr>\n",
       "      <th>1</th>\n",
       "      <td>1</td>\n",
       "      <td>384661</td>\n",
       "      <td>384661</td>\n",
       "      <td>0</td>\n",
       "      <td>0</td>\n",
       "      <td>0</td>\n",
       "    </tr>\n",
       "    <tr>\n",
       "      <th>2</th>\n",
       "      <td>2</td>\n",
       "      <td>389099</td>\n",
       "      <td>389099</td>\n",
       "      <td>0</td>\n",
       "      <td>0</td>\n",
       "      <td>0</td>\n",
       "    </tr>\n",
       "    <tr>\n",
       "      <th>3</th>\n",
       "      <td>3</td>\n",
       "      <td>396217</td>\n",
       "      <td>396217</td>\n",
       "      <td>0</td>\n",
       "      <td>0</td>\n",
       "      <td>0</td>\n",
       "    </tr>\n",
       "    <tr>\n",
       "      <th>4</th>\n",
       "      <td>4</td>\n",
       "      <td>405870</td>\n",
       "      <td>405870</td>\n",
       "      <td>0</td>\n",
       "      <td>0</td>\n",
       "      <td>0</td>\n",
       "    </tr>\n",
       "  </tbody>\n",
       "</table>\n",
       "</div>"
      ],
      "text/plain": [
       "   age   total   celib  marrie  veuf  divorce\n",
       "0    0  384347  384347       0     0        0\n",
       "1    1  384661  384661       0     0        0\n",
       "2    2  389099  389099       0     0        0\n",
       "3    3  396217  396217       0     0        0\n",
       "4    4  405870  405870       0     0        0"
      ]
     },
     "execution_count": 5,
     "metadata": {},
     "output_type": "execute_result"
    }
   ],
   "source": [
    "reference_marital = dict()\n",
    "for sexe in ['homme', 'femme']:\n",
    "    reference_marital[sexe] = pd.read_csv(\"data/menages/statut_marital_{0}.csv\".format(sexe))\n",
    "reference_marital['femme'].head()"
   ]
  },
  {
   "cell_type": "code",
   "execution_count": 6,
   "metadata": {
    "collapsed": false
   },
   "outputs": [
    {
     "data": {
      "text/html": [
       "<div>\n",
       "<table border=\"1\" class=\"dataframe\">\n",
       "  <thead>\n",
       "    <tr style=\"text-align: right;\">\n",
       "      <th></th>\n",
       "      <th>age</th>\n",
       "      <th>total</th>\n",
       "      <th>celib</th>\n",
       "      <th>marrie</th>\n",
       "      <th>veuf</th>\n",
       "      <th>divorce</th>\n",
       "    </tr>\n",
       "  </thead>\n",
       "  <tbody>\n",
       "    <tr>\n",
       "      <th>0</th>\n",
       "      <td>0</td>\n",
       "      <td>401382</td>\n",
       "      <td>401382</td>\n",
       "      <td>0</td>\n",
       "      <td>0</td>\n",
       "      <td>0</td>\n",
       "    </tr>\n",
       "    <tr>\n",
       "      <th>1</th>\n",
       "      <td>1</td>\n",
       "      <td>403797</td>\n",
       "      <td>403797</td>\n",
       "      <td>0</td>\n",
       "      <td>0</td>\n",
       "      <td>0</td>\n",
       "    </tr>\n",
       "    <tr>\n",
       "      <th>2</th>\n",
       "      <td>2</td>\n",
       "      <td>409038</td>\n",
       "      <td>409038</td>\n",
       "      <td>0</td>\n",
       "      <td>0</td>\n",
       "      <td>0</td>\n",
       "    </tr>\n",
       "    <tr>\n",
       "      <th>3</th>\n",
       "      <td>3</td>\n",
       "      <td>412492</td>\n",
       "      <td>412492</td>\n",
       "      <td>0</td>\n",
       "      <td>0</td>\n",
       "      <td>0</td>\n",
       "    </tr>\n",
       "    <tr>\n",
       "      <th>4</th>\n",
       "      <td>4</td>\n",
       "      <td>425656</td>\n",
       "      <td>425656</td>\n",
       "      <td>0</td>\n",
       "      <td>0</td>\n",
       "      <td>0</td>\n",
       "    </tr>\n",
       "  </tbody>\n",
       "</table>\n",
       "</div>"
      ],
      "text/plain": [
       "   age   total   celib  marrie  veuf  divorce\n",
       "0    0  401382  401382       0     0        0\n",
       "1    1  403797  403797       0     0        0\n",
       "2    2  409038  409038       0     0        0\n",
       "3    3  412492  412492       0     0        0\n",
       "4    4  425656  425656       0     0        0"
      ]
     },
     "execution_count": 6,
     "metadata": {},
     "output_type": "execute_result"
    }
   ],
   "source": [
    "reference_marital['homme'].head()"
   ]
  },
  {
   "cell_type": "markdown",
   "metadata": {},
   "source": [
    "### Tables concernant le fait d'avoir un enfant\n",
    "\n",
    "**Output** : type_famille.csv\n",
    "\n",
    "**Input**: AMFd3.xls pour la structure des familles avec enfants en 2012\n",
    "- Champ : France, population des ménages, familles avec au moins un enfant.\n",
    "- Source : Insee, RP1990 sondage au 1/4, RP1999 à RP2012 exploitations complémentaires.\n",
    "\n",
    "\n",
    "irsocsd2012_t6_fe.xls pour récupérer les effectifs de référence\n",
    "- Champ : France, territoire au 31 décembre 2010\n",
    "- Source : Insee, estimations de population\n",
    "- 2012\n",
    "\n",
    "\n"
   ]
  },
  {
   "cell_type": "code",
   "execution_count": 7,
   "metadata": {
    "collapsed": false
   },
   "outputs": [
    {
     "data": {
      "text/html": [
       "<div>\n",
       "<table border=\"1\" class=\"dataframe\">\n",
       "  <thead>\n",
       "    <tr style=\"text-align: right;\">\n",
       "      <th></th>\n",
       "      <th>type_fam</th>\n",
       "      <th>effectif</th>\n",
       "      <th>effectif_ref</th>\n",
       "    </tr>\n",
       "  </thead>\n",
       "  <tbody>\n",
       "    <tr>\n",
       "      <th>0</th>\n",
       "      <td>Total</td>\n",
       "      <td>10349.5</td>\n",
       "      <td>53141330</td>\n",
       "    </tr>\n",
       "    <tr>\n",
       "      <th>1</th>\n",
       "      <td>Couples</td>\n",
       "      <td>7681.8</td>\n",
       "      <td>24438372</td>\n",
       "    </tr>\n",
       "    <tr>\n",
       "      <th>2</th>\n",
       "      <td>femme solo</td>\n",
       "      <td>2218.8</td>\n",
       "      <td>15542786</td>\n",
       "    </tr>\n",
       "    <tr>\n",
       "      <th>3</th>\n",
       "      <td>homme solo</td>\n",
       "      <td>448.8</td>\n",
       "      <td>13160172</td>\n",
       "    </tr>\n",
       "  </tbody>\n",
       "</table>\n",
       "</div>"
      ],
      "text/plain": [
       "     type_fam  effectif  effectif_ref\n",
       "0       Total   10349.5      53141330\n",
       "1     Couples    7681.8      24438372\n",
       "2  femme solo    2218.8      15542786\n",
       "3  homme solo     448.8      13160172"
      ]
     },
     "execution_count": 7,
     "metadata": {},
     "output_type": "execute_result"
    }
   ],
   "source": [
    "pd.read_csv('data/menages/enfants/type_famille.csv')"
   ]
  },
  {
   "cell_type": "markdown",
   "metadata": {},
   "source": [
    "### Tables concernant le nombre d'enfants\n",
    "\n",
    "**Output**: nbr_enfant.csv\n",
    "\n",
    "**Input** :  Table générée à partir de rp2013_td_fam1.xls \n",
    "\n",
    "- Source : Insee\t \n",
    "- RP2013 exploitation complémentaire."
   ]
  },
  {
   "cell_type": "code",
   "execution_count": 3,
   "metadata": {
    "collapsed": false
   },
   "outputs": [
    {
     "data": {
      "text/html": [
       "<div>\n",
       "<table border=\"1\" class=\"dataframe\">\n",
       "  <thead>\n",
       "    <tr style=\"text-align: right;\">\n",
       "      <th></th>\n",
       "      <th>type_fam</th>\n",
       "      <th>1</th>\n",
       "      <th>2</th>\n",
       "      <th>3</th>\n",
       "      <th>4</th>\n",
       "    </tr>\n",
       "  </thead>\n",
       "  <tbody>\n",
       "    <tr>\n",
       "      <th>0</th>\n",
       "      <td>Couples</td>\n",
       "      <td>2790543</td>\n",
       "      <td>2938894</td>\n",
       "      <td>1069424</td>\n",
       "      <td>336473</td>\n",
       "    </tr>\n",
       "    <tr>\n",
       "      <th>1</th>\n",
       "      <td>homme solo</td>\n",
       "      <td>235324</td>\n",
       "      <td>110110</td>\n",
       "      <td>26948</td>\n",
       "      <td>7218</td>\n",
       "    </tr>\n",
       "    <tr>\n",
       "      <th>2</th>\n",
       "      <td>femme solo</td>\n",
       "      <td>1001638</td>\n",
       "      <td>580945</td>\n",
       "      <td>186680</td>\n",
       "      <td>72717</td>\n",
       "    </tr>\n",
       "  </tbody>\n",
       "</table>\n",
       "</div>"
      ],
      "text/plain": [
       "     type_fam        1        2        3       4\n",
       "0     Couples  2790543  2938894  1069424  336473\n",
       "1  homme solo   235324   110110    26948    7218\n",
       "2  femme solo  1001638   580945   186680   72717"
      ]
     },
     "execution_count": 3,
     "metadata": {},
     "output_type": "execute_result"
    }
   ],
   "source": [
    "pd.read_csv('data/menages/enfants/nbr_enfant.csv')"
   ]
  },
  {
   "cell_type": "code",
   "execution_count": null,
   "metadata": {
    "collapsed": true
   },
   "outputs": [],
   "source": []
  }
 ],
 "metadata": {
  "kernelspec": {
   "display_name": "Python 2",
   "language": "python",
   "name": "python2"
  },
  "language_info": {
   "codemirror_mode": {
    "name": "ipython",
    "version": 2
   },
   "file_extension": ".py",
   "mimetype": "text/x-python",
   "name": "python",
   "nbconvert_exporter": "python",
   "pygments_lexer": "ipython2",
   "version": "2.7.12"
  }
 },
 "nbformat": 4,
 "nbformat_minor": 0
}
