{
 "cells": [
  {
   "cell_type": "code",
   "execution_count": 1,
   "metadata": {
    "collapsed": true
   },
   "outputs": [],
   "source": [
    "# %load Simulation_brute.py\n",
    "import numpy as np\n",
    "import pandas as pd"
   ]
  },
  {
   "cell_type": "code",
   "execution_count": 2,
   "metadata": {
    "collapsed": true
   },
   "outputs": [],
   "source": [
    "from make_demo import (generate_SexeAge, generate_Handicap)\n",
    "from make_travail import (generate_Activite, \n",
    "                          generate_Emploi, \n",
    "                          add_Salaire,\n",
    "                          add_Retraite,\n",
    "                          generate_Etudiants)\n",
    "from make_couple import (generate_Couple,\n",
    "                        generate_pop_men)                          \n",
    "\n",
    "sample_size_target = 1000"
   ]
  },
  {
   "cell_type": "markdown",
   "metadata": {},
   "source": [
    "### Génère la population : âge et sexe\n",
    "\n",
    "Input : pop_age_sexe_2016.csv     \n",
    "Table générée à partir de pop-1janvier-fe.xls (https://www.insee.fr/fr/statistiques/1892086)\n",
    "Source : Insee, estimations de population (résultats provisoires arrêtés à fin 2015).    \n",
    "Champ : France y compris Mayotte.\n"
   ]
  },
  {
   "cell_type": "code",
   "execution_count": 3,
   "metadata": {
    "collapsed": false
   },
   "outputs": [
    {
     "name": "stdout",
     "output_type": "stream",
     "text": [
      "Test effectifs simulés pour âge et sexe :\n",
      "count    188.000000\n",
      "mean       1.003014\n",
      "std        0.023816\n",
      "min        1.000000\n",
      "25%        1.000000\n",
      "50%        1.000000\n",
      "75%        1.000000\n",
      "max        1.200000\n",
      "Name: ratio, dtype: float64\n"
     ]
    }
   ],
   "source": [
    "# AgeSexe   \n",
    "effectifs_age_sexe = pd.read_csv(\"data/demographie/pop_age_sexe_2016.csv\")\n",
    "generation = generate_SexeAge(effectifs_age_sexe, sample_size_target)\n",
    "effectifs_age_sexe = generation[1]\n",
    "population = generation[0]\n",
    "\n",
    "sample_size = len(population)\n",
    "max_age = effectifs_age_sexe['age'].max()"
   ]
  },
  {
   "cell_type": "code",
   "execution_count": 5,
   "metadata": {
    "collapsed": false
   },
   "outputs": [
    {
     "data": {
      "text/html": [
       "<div>\n",
       "<table border=\"1\" class=\"dataframe\">\n",
       "  <thead>\n",
       "    <tr style=\"text-align: right;\">\n",
       "      <th></th>\n",
       "      <th>age</th>\n",
       "      <th>sexe</th>\n",
       "      <th>effectif_ref</th>\n",
       "    </tr>\n",
       "  </thead>\n",
       "  <tbody>\n",
       "    <tr>\n",
       "      <th>0</th>\n",
       "      <td>0</td>\n",
       "      <td>femme</td>\n",
       "      <td>374179</td>\n",
       "    </tr>\n",
       "    <tr>\n",
       "      <th>1</th>\n",
       "      <td>1</td>\n",
       "      <td>femme</td>\n",
       "      <td>385442</td>\n",
       "    </tr>\n",
       "    <tr>\n",
       "      <th>2</th>\n",
       "      <td>2</td>\n",
       "      <td>femme</td>\n",
       "      <td>386831</td>\n",
       "    </tr>\n",
       "    <tr>\n",
       "      <th>3</th>\n",
       "      <td>3</td>\n",
       "      <td>femme</td>\n",
       "      <td>391853</td>\n",
       "    </tr>\n",
       "    <tr>\n",
       "      <th>4</th>\n",
       "      <td>4</td>\n",
       "      <td>femme</td>\n",
       "      <td>399632</td>\n",
       "    </tr>\n",
       "  </tbody>\n",
       "</table>\n",
       "</div>"
      ],
      "text/plain": [
       "   age   sexe  effectif_ref\n",
       "0    0  femme        374179\n",
       "1    1  femme        385442\n",
       "2    2  femme        386831\n",
       "3    3  femme        391853\n",
       "4    4  femme        399632"
      ]
     },
     "execution_count": 5,
     "metadata": {},
     "output_type": "execute_result"
    }
   ],
   "source": [
    "effectifs_age_sexe.head()"
   ]
  },
  {
   "cell_type": "code",
   "execution_count": 6,
   "metadata": {
    "collapsed": false
   },
   "outputs": [
    {
     "name": "stdout",
     "output_type": "stream",
     "text": [
      "Test effectifs simulés pour activité :\n",
      "count    18.000000\n",
      "mean      0.934389\n",
      "std       0.214709\n",
      "min       0.333333\n",
      "25%       0.899687\n",
      "50%       1.000000\n",
      "75%       1.056494\n",
      "max       1.176471\n",
      "Name: ratio, dtype: float64\n",
      "Test effectifs simulés pour emploi :\n",
      "count    6.000000\n",
      "mean     0.981972\n",
      "std      0.234852\n",
      "min      0.752840\n",
      "25%      0.793336\n",
      "50%      0.924561\n",
      "75%      1.172471\n",
      "max      1.285170\n",
      "Name: ratio, dtype: float64\n",
      "Taux de chômage généré :  10.6728538283\n",
      " Pourcentage d'étudiants en emploi 13.1578947368\n",
      "Test effectifs simulés pour activité :\n",
      "count    23.000000\n",
      "mean      0.834942\n",
      "std       0.288731\n",
      "min       0.333333\n",
      "25%       0.777778\n",
      "50%       0.819820\n",
      "75%       0.829870\n",
      "max       2.000000\n",
      "Name: ratio, dtype: float64\n",
      " Pourcentage d'handicapés en emploi 63.63636363636363\n",
      " Pourcentage d'handicapés en activite 72.72727272727273\n",
      "Proportion générée des statuts maritaux :\n",
      "0    0.410539\n",
      "1    0.438725\n",
      "2    0.075980\n",
      "3    0.074755\n",
      "Name: statut_marital, dtype: float64\n"
     ]
    }
   ],
   "source": [
    "### Activité\n",
    "reference_activite = pd.read_csv(\"data/demographie/activite_2015.csv\")   \n",
    "population['activite']= generate_Activite(reference_activite, effectifs_age_sexe, population, sample_size)\n",
    "\n",
    "#Emploi : à partir du taux de chomaĝe\n",
    "reference_emploi = pd.read_csv(\"data/travail/chomage.csv\")\n",
    "\n",
    "\n",
    "population['emploi'] = generate_Emploi(reference_emploi, population, max_age)\n",
    "\n",
    "# Salaire\n",
    "reference_salaire = pd.read_csv(\"data/travail/salaire_brut_horaire.csv\")\n",
    "population['salaire'] = add_Salaire(reference_salaire,population, max_age)\n",
    "\n",
    "# Retraite\n",
    "reference_retraite = pd.read_csv(\"data/travail/retraite_2012.csv\")\n",
    "population['retraite'] = add_Retraite(reference_retraite, population, max_age)\n",
    "\n",
    "\n",
    "#Étudiants\n",
    "reference_etudes = pd.read_csv(\"data/demographie/etudes.csv\")\n",
    "population['etudes'] = generate_Etudiants(reference_etudes, population)\n",
    "# Selon une étude INSEE (2016) -> 23%/\n",
    "# http://www.insee.fr/fr/themes/document.asp?reg_id=0&ref_id=ip1603#inter6\n",
    "\n",
    "#### Handicap\n",
    "\n",
    "reference_handicap = pd.read_csv(\"data/demographie/handicap_pop.csv\")\n",
    "reference_handicap_jeune = pd.read_csv(\"data/demographie/handicap_pop_jeune.csv\")\n",
    "population['handicap'] = generate_Handicap(reference_handicap, reference_handicap_jeune, population, effectifs_age_sexe, sample_size)\n",
    "\n",
    "#### Statut marital\n",
    "reference_marital = dict()\n",
    "for sexe in ['homme', 'femme']:\n",
    "    reference_marital[sexe] = pd.read_csv(\"data/menages/statut_marital_{0}.csv\".format(sexe))\n",
    "population['statut_marital'] = generate_Couple(reference_marital, population)\n",
    "\n",
    "\n",
    "''''\n",
    "TABLE MÉNAGE\n",
    "'''''\n",
    "\n",
    "population_menage = generate_pop_men(population)"
   ]
  }
 ],
 "metadata": {
  "anaconda-cloud": {},
  "kernelspec": {
   "display_name": "Python [Root]",
   "language": "python",
   "name": "Python [Root]"
  },
  "language_info": {
   "codemirror_mode": {
    "name": "ipython",
    "version": 3
   },
   "file_extension": ".py",
   "mimetype": "text/x-python",
   "name": "python",
   "nbconvert_exporter": "python",
   "pygments_lexer": "ipython3",
   "version": "3.5.2"
  }
 },
 "nbformat": 4,
 "nbformat_minor": 0
}
